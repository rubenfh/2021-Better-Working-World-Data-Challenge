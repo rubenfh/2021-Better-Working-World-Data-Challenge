{
 "cells": [
  {
   "cell_type": "markdown",
   "metadata": {},
   "source": [
    "# Challenge 1 - Getting started <img align=\"right\" src=\"../Supplementary_data/EY_logo.png\" style=\"margin:0px 50px\">\n",
    "\n",
    "Welcome to the 2021 Better Working World Data Challenge! \n",
    "\n",
    "This notebook will show you how to open and explore the data, identify problematic areas of the data, create a basic solution to the problem, and submit your results via the EY Data Science platform.\n",
    "\n",
    "Prior to running this notebook, make sure you have:\n",
    "* **Created a profile** on the [EY Data Science Platform](https://datascience.ey.com/)\n",
    "* **Registered** for \"Challenge 1: Fire mapping\" on the Platform\n",
    "\n",
    "We also recommend checking out the resources in the \"01_Beginners_guide\" folder to learn about jupyter notebooks and the Open Data Cube before coming back here."
   ]
  },
  {
   "cell_type": "markdown",
   "metadata": {},
   "source": [
    "### Your task\n",
    "\n",
    "The training dataset contains 129 linescan images (infra-red images taken from an airplane) of bushfires in Victoria, Australia, during the first three months of 2019. There are also polygons showing where the fire is in each image, which have been hand-drawn by our collaborators at the Country Fire Authority (CFA). These polygons are the ground truth your solution should be able to recreate.\n",
    "\n",
    "There are an additional 5 linescan images, the test dataset, where the polygons showing the fire boundaries have not been provided. Your task is to train a model or process which can produce a fire boundary for the remaining 5 linescans with no polygon.\n",
    "\n",
    "All the linescan images (both the traning and test sets) are served via the Open Data Cube python library. The polygons are already available in your environment."
   ]
  },
  {
   "cell_type": "markdown",
   "metadata": {},
   "source": [
    "### Import libraries and instantiate a datacube"
   ]
  },
  {
   "cell_type": "code",
   "execution_count": 1,
   "metadata": {
    "scrolled": false
   },
   "outputs": [
    {
     "name": "stderr",
     "output_type": "stream",
     "text": [
      "/env/lib/python3.6/site-packages/geopandas/_compat.py:110: UserWarning: The Shapely GEOS version (3.7.2-CAPI-1.11.0 ) is incompatible with the GEOS version PyGEOS was compiled with (3.9.0-CAPI-1.16.2). Conversions between both will be slow.\n",
      "  shapely_geos_version, geos_capi_version_string\n"
     ]
    }
   ],
   "source": [
    "%matplotlib inline\n",
    "import sys\n",
    "import numpy as np\n",
    "import pandas as pd\n",
    "import geopandas as gpd\n",
    "from datetime import datetime\n",
    "\n",
    "from datacube import Datacube\n",
    "import matplotlib.pyplot as plt\n",
    "\n",
    "import tqdm\n",
    "from odc.ui import with_ui_cbk # progress_cbk=with_ui_cbk(),\n",
    "\n",
    "sys.path.append(\"../scripts\")\n",
    "from dea_plotting import map_shapefile\n",
    "from dea_spatialtools import xr_rasterize"
   ]
  },
  {
   "cell_type": "code",
   "execution_count": 2,
   "metadata": {},
   "outputs": [],
   "source": [
    "dc = Datacube(app=\"Data Preparation\")"
   ]
  },
  {
   "cell_type": "markdown",
   "metadata": {},
   "source": [
    "## Import variables\n",
    "### Import input variable: aerial linescan images"
   ]
  },
  {
   "cell_type": "markdown",
   "metadata": {},
   "source": [
    "Firstly, let's query the datacube object to identify what linescans are available. We'll also sort them by ID to ensure they're ordered consistently for this guide."
   ]
  },
  {
   "cell_type": "code",
   "execution_count": 3,
   "metadata": {
    "scrolled": false
   },
   "outputs": [
    {
     "name": "stdout",
     "output_type": "stream",
     "text": [
      "\n",
      "Number of linescan datasets: 134\n"
     ]
    }
   ],
   "source": [
    "linescan_datasets = dc.find_datasets(product='linescan')\n",
    "linescan_datasets = sorted(linescan_datasets, key = lambda ds: (ds.center_time, ds.id))\n",
    "\n",
    "print(f'\\nNumber of linescan datasets: {len(linescan_datasets)}')"
   ]
  },
  {
   "cell_type": "markdown",
   "metadata": {},
   "source": [
    "The results stored in `linescan_datasets` are metadata which describe the various linescan files, including the filename (called the 'label'), extent, date and time of acquisition, and an ID number for that dataset.  Not until we load the dataset can we actually read or view the data. The cell below loads a single linescan from the available list."
   ]
  },
  {
   "cell_type": "code",
   "execution_count": 4,
   "metadata": {
    "scrolled": false
   },
   "outputs": [
    {
     "name": "stdout",
     "output_type": "stream",
     "text": [
      "                                  label     dateTimeLocal       dateTimeUTC\n",
      "id                                                                         \n",
      "0     ROSEDALE_P1_201901041439_MGA94_55   4/01/2019 14:39    4/01/2019 3:39\n",
      "1   ROSEDALE_1_P1_201901041446_MGA94_55   4/01/2019 14:46    4/01/2019 3:46\n",
      "2   ROSEDALE_3_P1_201901041501_MGA94_55   4/01/2019 15:01    4/01/2019 4:01\n",
      "3   POINT_H_62_P1_201901162128_MGA94_55  16/01/2019 21:28  16/01/2019 10:28\n",
      "4   NUNNETT_73_P1_201901171134_MGA94_55  17/01/2019 11:34   17/01/2019 0:34\n",
      "\n",
      "Number of training images: 129\n"
     ]
    }
   ],
   "source": [
    "train = pd.read_csv('resources/challenge1_train.csv', index_col='id')\n",
    "print(train.head())\n",
    "print(f'\\nNumber of training images: {len(train)}')"
   ]
  },
  {
   "cell_type": "markdown",
   "metadata": {},
   "source": [
    "### Import Target Variable: Fire Map Polygons\n",
    "\n",
    "Let's load and display the dataset."
   ]
  },
  {
   "cell_type": "code",
   "execution_count": 148,
   "metadata": {
    "scrolled": false
   },
   "outputs": [
    {
     "name": "stdout",
     "output_type": "stream",
     "text": [
      "Number of objects in geodataframe: 976\n"
     ]
    }
   ],
   "source": [
    "vector_file = 'resources/fire_boundaries.shp'\n",
    "gdf = gpd.read_file(vector_file)\n",
    "print('Number of objects in geodataframe: ' + str(len(gdf)))"
   ]
  },
  {
   "cell_type": "code",
   "execution_count": 8,
   "metadata": {},
   "outputs": [
    {
     "data": {
      "text/html": [
       "<div>\n",
       "<style scoped>\n",
       "    .dataframe tbody tr th:only-of-type {\n",
       "        vertical-align: middle;\n",
       "    }\n",
       "\n",
       "    .dataframe tbody tr th {\n",
       "        vertical-align: top;\n",
       "    }\n",
       "\n",
       "    .dataframe thead th {\n",
       "        text-align: right;\n",
       "    }\n",
       "</style>\n",
       "<table border=\"1\" class=\"dataframe\">\n",
       "  <thead>\n",
       "    <tr style=\"text-align: right;\">\n",
       "      <th></th>\n",
       "      <th>Source</th>\n",
       "      <th>SourceName</th>\n",
       "      <th>Type</th>\n",
       "      <th>dtString</th>\n",
       "      <th>Comments</th>\n",
       "      <th>dtUTC</th>\n",
       "      <th>dtLocal</th>\n",
       "      <th>ID</th>\n",
       "      <th>event</th>\n",
       "      <th>geometry</th>\n",
       "    </tr>\n",
       "  </thead>\n",
       "  <tbody>\n",
       "    <tr>\n",
       "      <th>0</th>\n",
       "      <td>Linescan</td>\n",
       "      <td>aberfeldy west 200 p1_201901260955_mga94_55.jpg</td>\n",
       "      <td>Initial ignition</td>\n",
       "      <td>2019/01/26 09:55:00.000</td>\n",
       "      <td>originally Latrobe 87 - Jericho - Jim Track</td>\n",
       "      <td>2019-01-25 22:55:00</td>\n",
       "      <td>2019-01-26 09:55:00</td>\n",
       "      <td>0</td>\n",
       "      <td>Latrobe86</td>\n",
       "      <td>POLYGON ((431455.605 5829806.837, 431460.570 5...</td>\n",
       "    </tr>\n",
       "    <tr>\n",
       "      <th>1</th>\n",
       "      <td>Linescan</td>\n",
       "      <td>aberfeldy west 200 p1_201901260955_mga94_55.jpg</td>\n",
       "      <td>Initial ignition</td>\n",
       "      <td>2019/01/26 09:55:00.000</td>\n",
       "      <td>originally Latrobe 86 - Jericho - Thomson - Jo...</td>\n",
       "      <td>2019-01-25 22:55:00</td>\n",
       "      <td>2019-01-26 09:55:00</td>\n",
       "      <td>1</td>\n",
       "      <td>Latrobe86</td>\n",
       "      <td>POLYGON ((433874.449 5827986.798, 433882.377 5...</td>\n",
       "    </tr>\n",
       "    <tr>\n",
       "      <th>2</th>\n",
       "      <td>Linescan</td>\n",
       "      <td>aberfeldy west 200 p1_201901260955_mga94_55.jpg</td>\n",
       "      <td>Initial ignition</td>\n",
       "      <td>2019/01/26 09:55:00.000</td>\n",
       "      <td>originally Latrobe 85 - Jericho - Cream Can Hill</td>\n",
       "      <td>2019-01-25 22:55:00</td>\n",
       "      <td>2019-01-26 09:55:00</td>\n",
       "      <td>2</td>\n",
       "      <td>Latrobe86</td>\n",
       "      <td>POLYGON ((430459.914 5831285.492, 430457.641 5...</td>\n",
       "    </tr>\n",
       "    <tr>\n",
       "      <th>3</th>\n",
       "      <td>Linescan</td>\n",
       "      <td>aberfeldy west 214 p1_201901261750_mga94_55.jpg</td>\n",
       "      <td>Spot</td>\n",
       "      <td>2019/01/26 17:50:00.000</td>\n",
       "      <td>originally Latrobe 87 - Jericho - Jim Track</td>\n",
       "      <td>2019-01-26 06:50:00</td>\n",
       "      <td>2019-01-26 17:50:00</td>\n",
       "      <td>3</td>\n",
       "      <td>Latrobe86</td>\n",
       "      <td>POLYGON ((431937.376 5829943.371, 431941.068 5...</td>\n",
       "    </tr>\n",
       "    <tr>\n",
       "      <th>4</th>\n",
       "      <td>Linescan</td>\n",
       "      <td>aberfeldy west 214 p1_201901261750_mga94_55.jpg</td>\n",
       "      <td>Main run</td>\n",
       "      <td>2019/01/26 17:50:00.000</td>\n",
       "      <td>originally Latrobe 87 - Jericho - Jim Track</td>\n",
       "      <td>2019-01-26 06:50:00</td>\n",
       "      <td>2019-01-26 17:50:00</td>\n",
       "      <td>4</td>\n",
       "      <td>Latrobe86</td>\n",
       "      <td>POLYGON ((431541.651 5829804.025, 431547.139 5...</td>\n",
       "    </tr>\n",
       "    <tr>\n",
       "      <th>...</th>\n",
       "      <td>...</td>\n",
       "      <td>...</td>\n",
       "      <td>...</td>\n",
       "      <td>...</td>\n",
       "      <td>...</td>\n",
       "      <td>...</td>\n",
       "      <td>...</td>\n",
       "      <td>...</td>\n",
       "      <td>...</td>\n",
       "      <td>...</td>\n",
       "    </tr>\n",
       "    <tr>\n",
       "      <th>971</th>\n",
       "      <td>Linescan</td>\n",
       "      <td>yarra51 809 p1_201903161558_mga94_55.jpg</td>\n",
       "      <td>Backburn</td>\n",
       "      <td>2019/03/16 15:58:00.000</td>\n",
       "      <td>None</td>\n",
       "      <td>2019-03-16 04:58:00</td>\n",
       "      <td>2019-03-16 15:58:00</td>\n",
       "      <td>2254</td>\n",
       "      <td>Yarra51</td>\n",
       "      <td>POLYGON ((400246.624 5838321.274, 400254.524 5...</td>\n",
       "    </tr>\n",
       "    <tr>\n",
       "      <th>972</th>\n",
       "      <td>Linescan</td>\n",
       "      <td>yarra51 809 p1_201903161558_mga94_55.jpg</td>\n",
       "      <td>Spot</td>\n",
       "      <td>2019/03/16 15:58:00.000</td>\n",
       "      <td>None</td>\n",
       "      <td>2019-03-16 04:58:00</td>\n",
       "      <td>2019-03-16 15:58:00</td>\n",
       "      <td>2255</td>\n",
       "      <td>Yarra51</td>\n",
       "      <td>POLYGON ((400442.749 5839677.640, 400409.760 5...</td>\n",
       "    </tr>\n",
       "    <tr>\n",
       "      <th>973</th>\n",
       "      <td>Linescan</td>\n",
       "      <td>yarra51 809 p1_201903161558_mga94_55.jpg</td>\n",
       "      <td>Backburn</td>\n",
       "      <td>2019/03/16 15:58:00.000</td>\n",
       "      <td>None</td>\n",
       "      <td>2019-03-16 04:58:00</td>\n",
       "      <td>2019-03-16 15:58:00</td>\n",
       "      <td>2256</td>\n",
       "      <td>Yarra51</td>\n",
       "      <td>POLYGON ((400104.351 5838696.227, 400104.396 5...</td>\n",
       "    </tr>\n",
       "    <tr>\n",
       "      <th>974</th>\n",
       "      <td>Linescan</td>\n",
       "      <td>yarra51 809 p1_201903161558_mga94_55.jpg</td>\n",
       "      <td>Main run</td>\n",
       "      <td>2019/03/16 15:58:00.000</td>\n",
       "      <td>Final scan withfire activity</td>\n",
       "      <td>2019-03-16 04:58:00</td>\n",
       "      <td>2019-03-16 15:58:00</td>\n",
       "      <td>2257</td>\n",
       "      <td>Yarra51</td>\n",
       "      <td>POLYGON ((404476.742 5834053.367, 404473.745 5...</td>\n",
       "    </tr>\n",
       "    <tr>\n",
       "      <th>975</th>\n",
       "      <td>Linescan</td>\n",
       "      <td>yarra51 809 p1_201903161558_mga94_55.jpg</td>\n",
       "      <td>Backburn</td>\n",
       "      <td>2019/03/16 15:58:00.000</td>\n",
       "      <td>This shows up in May18 Sentinel CIR - not sure...</td>\n",
       "      <td>2019-03-16 04:58:00</td>\n",
       "      <td>2019-03-16 15:58:00</td>\n",
       "      <td>2258</td>\n",
       "      <td>Yarra51</td>\n",
       "      <td>MULTIPOLYGON (((400107.205 5838673.428, 400120...</td>\n",
       "    </tr>\n",
       "  </tbody>\n",
       "</table>\n",
       "<p>976 rows × 10 columns</p>\n",
       "</div>"
      ],
      "text/plain": [
       "       Source                                       SourceName  \\\n",
       "0    Linescan  aberfeldy west 200 p1_201901260955_mga94_55.jpg   \n",
       "1    Linescan  aberfeldy west 200 p1_201901260955_mga94_55.jpg   \n",
       "2    Linescan  aberfeldy west 200 p1_201901260955_mga94_55.jpg   \n",
       "3    Linescan  aberfeldy west 214 p1_201901261750_mga94_55.jpg   \n",
       "4    Linescan  aberfeldy west 214 p1_201901261750_mga94_55.jpg   \n",
       "..        ...                                              ...   \n",
       "971  Linescan         yarra51 809 p1_201903161558_mga94_55.jpg   \n",
       "972  Linescan         yarra51 809 p1_201903161558_mga94_55.jpg   \n",
       "973  Linescan         yarra51 809 p1_201903161558_mga94_55.jpg   \n",
       "974  Linescan         yarra51 809 p1_201903161558_mga94_55.jpg   \n",
       "975  Linescan         yarra51 809 p1_201903161558_mga94_55.jpg   \n",
       "\n",
       "                 Type                 dtString  \\\n",
       "0    Initial ignition  2019/01/26 09:55:00.000   \n",
       "1    Initial ignition  2019/01/26 09:55:00.000   \n",
       "2    Initial ignition  2019/01/26 09:55:00.000   \n",
       "3                Spot  2019/01/26 17:50:00.000   \n",
       "4            Main run  2019/01/26 17:50:00.000   \n",
       "..                ...                      ...   \n",
       "971          Backburn  2019/03/16 15:58:00.000   \n",
       "972              Spot  2019/03/16 15:58:00.000   \n",
       "973          Backburn  2019/03/16 15:58:00.000   \n",
       "974          Main run  2019/03/16 15:58:00.000   \n",
       "975          Backburn  2019/03/16 15:58:00.000   \n",
       "\n",
       "                                              Comments                dtUTC  \\\n",
       "0          originally Latrobe 87 - Jericho - Jim Track  2019-01-25 22:55:00   \n",
       "1    originally Latrobe 86 - Jericho - Thomson - Jo...  2019-01-25 22:55:00   \n",
       "2     originally Latrobe 85 - Jericho - Cream Can Hill  2019-01-25 22:55:00   \n",
       "3          originally Latrobe 87 - Jericho - Jim Track  2019-01-26 06:50:00   \n",
       "4          originally Latrobe 87 - Jericho - Jim Track  2019-01-26 06:50:00   \n",
       "..                                                 ...                  ...   \n",
       "971                                               None  2019-03-16 04:58:00   \n",
       "972                                               None  2019-03-16 04:58:00   \n",
       "973                                               None  2019-03-16 04:58:00   \n",
       "974                       Final scan withfire activity  2019-03-16 04:58:00   \n",
       "975  This shows up in May18 Sentinel CIR - not sure...  2019-03-16 04:58:00   \n",
       "\n",
       "                 dtLocal    ID      event  \\\n",
       "0    2019-01-26 09:55:00     0  Latrobe86   \n",
       "1    2019-01-26 09:55:00     1  Latrobe86   \n",
       "2    2019-01-26 09:55:00     2  Latrobe86   \n",
       "3    2019-01-26 17:50:00     3  Latrobe86   \n",
       "4    2019-01-26 17:50:00     4  Latrobe86   \n",
       "..                   ...   ...        ...   \n",
       "971  2019-03-16 15:58:00  2254    Yarra51   \n",
       "972  2019-03-16 15:58:00  2255    Yarra51   \n",
       "973  2019-03-16 15:58:00  2256    Yarra51   \n",
       "974  2019-03-16 15:58:00  2257    Yarra51   \n",
       "975  2019-03-16 15:58:00  2258    Yarra51   \n",
       "\n",
       "                                              geometry  \n",
       "0    POLYGON ((431455.605 5829806.837, 431460.570 5...  \n",
       "1    POLYGON ((433874.449 5827986.798, 433882.377 5...  \n",
       "2    POLYGON ((430459.914 5831285.492, 430457.641 5...  \n",
       "3    POLYGON ((431937.376 5829943.371, 431941.068 5...  \n",
       "4    POLYGON ((431541.651 5829804.025, 431547.139 5...  \n",
       "..                                                 ...  \n",
       "971  POLYGON ((400246.624 5838321.274, 400254.524 5...  \n",
       "972  POLYGON ((400442.749 5839677.640, 400409.760 5...  \n",
       "973  POLYGON ((400104.351 5838696.227, 400104.396 5...  \n",
       "974  POLYGON ((404476.742 5834053.367, 404473.745 5...  \n",
       "975  MULTIPOLYGON (((400107.205 5838673.428, 400120...  \n",
       "\n",
       "[976 rows x 10 columns]"
      ]
     },
     "execution_count": 8,
     "metadata": {},
     "output_type": "execute_result"
    }
   ],
   "source": [
    "gdf"
   ]
  },
  {
   "cell_type": "markdown",
   "metadata": {},
   "source": [
    "## Exploring the Polygon Dataset\n",
    "While the polygons provided were created from the linescan images, it is not always easy to see exactly which linescan was the source for a given polygon.\n",
    "\n",
    "### Direct matches\n",
    "Looking at the linescan dataset metadata, in many cases the linescan label field can be used to match the linescan to a set of polygons using the SourceName field, with some slight changes."
   ]
  },
  {
   "cell_type": "code",
   "execution_count": 9,
   "metadata": {
    "scrolled": true
   },
   "outputs": [
    {
     "name": "stdout",
     "output_type": "stream",
     "text": [
      "MACALISTER91_808_P1_201903161539_MGA94_55\n"
     ]
    }
   ],
   "source": [
    "print(linescan_datasets[sample].metadata_doc['label'])"
   ]
  },
  {
   "cell_type": "markdown",
   "metadata": {},
   "source": [
    "### Composite Polygons\n",
    "\n",
    "Another subset of the polygon dataset that will require more careful consideration are polygons derived from multiple linescans. These polygons usually represent larger fires that stretch over many linescan images and are referred to as \"composite polygons\".\n",
    "\n",
    "Identifying these polygons is a little trickier and involves searching the SourceName attribute for the word \"composite\". Some composites might not meet this condition, but will have a list of numbers representing the linescans it was derived from, so in addition to \"composite\", we will also search for commas and the ampersand symbol '&'. \n",
    "\n",
    "The query is as follows:\n"
   ]
  },
  {
   "cell_type": "code",
   "execution_count": 10,
   "metadata": {
    "scrolled": false
   },
   "outputs": [
    {
     "name": "stdout",
     "output_type": "stream",
     "text": [
      "Total composite polygons: 285\n"
     ]
    },
    {
     "name": "stderr",
     "output_type": "stream",
     "text": [
      "/env/lib/python3.6/site-packages/pandas/core/strings.py:2001: UserWarning: This pattern has match groups. To actually get the groups, use str.extract.\n",
      "  return func(self, *args, **kwargs)\n"
     ]
    },
    {
     "data": {
      "text/plain": [
       "240    Composite wallhalla 397,398 & 401 20190225 (13...\n",
       "241    Composite wallhalla 397,398 & 401 20190225 (13...\n",
       "242    Composite wallhalla 397,398 & 401 20190225 (13...\n",
       "315    macalister 681 & 682, (684 & 685 minor) compos...\n",
       "316    macalister 681 & 682, (684 & 685 minor) compos...\n",
       "Name: SourceName, dtype: object"
      ]
     },
     "execution_count": 10,
     "metadata": {},
     "output_type": "execute_result"
    }
   ],
   "source": [
    "composites = gdf[gdf.SourceName.str.upper().str.contains(\",|&|(COMPOSITE)\", na=False)]\n",
    "\n",
    "print(f\"Total composite polygons: {len(composites)}\")\n",
    "composites.SourceName.head()"
   ]
  },
  {
   "cell_type": "code",
   "execution_count": 11,
   "metadata": {
    "scrolled": true
   },
   "outputs": [
    {
     "data": {
      "image/svg+xml": [
       "<svg xmlns=\"http://www.w3.org/2000/svg\" xmlns:xlink=\"http://www.w3.org/1999/xlink\" width=\"300\" height=\"296.1421753736213\" viewBox=\"453388.17917613714 5803721.896601009 306.27249021746684 296.1421753736213\" preserveAspectRatio=\"xMinYMin meet\"><g transform=\"matrix(1,0,0,-1,0,11607739.935377393)\"><path fill-rule=\"evenodd\" fill=\"#66cc99\" stroke=\"#555555\" stroke-width=\"2.0418166014497787\" opacity=\"0.6\" d=\"M 453658.6667487729,5803930.428893661 L 453665.3753424479,5803925.941006138 L 453666.1761349377,5803919.344149028 L 453681.60442467703,5803909.088028625 L 453683.108240791,5803900.521872394 L 453676.6510520748,5803893.110355526 L 453656.26919303974,5803887.3886974165 L 453651.1341519362,5803880.005013781 L 453653.9461458789,5803872.127914137 L 453664.19759041414,5803856.471482273 L 453664.3232930624,5803850.521780819 L 453659.835407068,5803843.813188076 L 453653.9973428403,5803838.398804208 L 453644.17887662374,5803833.561741264 L 453613.8389831947,5803829.613842724 L 453601.3481938535,5803826.043053366 L 453596.80444114155,5803821.978749235 L 453595.58006630547,5803817.323258641 L 453603.0754881783,5803806.899540882 L 453603.2570600088,5803798.305550404 L 453592.35379489895,5803782.202070371 L 453571.47852591943,5803768.5334725985 L 453543.8527618126,5803761.336023421 L 453521.7810556299,5803741.689787486 L 453507.3909071964,5803734.110560098 L 453497.48863885656,5803733.240026573 L 453489.49980229576,5803735.716707126 L 453467.9401303963,5803754.441197044 L 453463.68028093444,5803768.240061334 L 453472.2929918162,5803798.8454374075 L 453469.5089279488,5803805.400390848 L 453463.47542264627,5803809.241119651 L 453456.2034756431,5803809.087477091 L 453441.7714215265,5803803.491513975 L 453426.5665048316,5803803.170261611 L 453408.6055573732,5803808.081819333 L 453400.47704291577,5803817.169324598 L 453399.52260170074,5803831.038129248 L 453409.21535898256,5803841.825002431 L 453423.6894175679,5803845.437701315 L 453443.5916308792,5803842.551309936 L 453446.8132402173,5803846.587582264 L 453445.30951824214,5803855.153740804 L 453441.2173769603,5803861.019640527 L 453423.1307215579,5803871.880904011 L 453417.6604635808,5803880.363257781 L 453415.2861069221,5803898.831688458 L 453424.1641040572,5803916.8764431225 L 453428.73589388176,5803919.618507318 L 453437.99101115274,5803919.814049961 L 453475.5004358132,5803897.458329019 L 453480.16989426146,5803895.57293212 L 453492.73052327987,5803895.838312483 L 453505.826470013,5803902.067361644 L 453514.8860452168,5803911.518018797 L 453535.05839865503,5803927.1559236795 L 453545.38425028557,5803939.278904546 L 453548.53602559766,5803946.620589286 L 453547.67936123745,5803955.861838039 L 453526.51543541654,5803987.160744965 L 453526.3338616031,5803995.754840209 L 453533.4102719961,5804005.163598107 L 453543.2985769103,5804006.695350819 L 453554.6626686043,5804000.982987314 L 453569.69531704055,5803978.152369761 L 453579.7512279316,5803971.751049999 L 453596.99518394266,5803969.469902672 L 453607.02316021005,5803964.390727893 L 453625.5195251668,5803965.442928389 L 453641.45530243125,5803962.472723211 L 453649.54191123793,5803955.368378645 L 453654.6025449797,5803934.972650518 L 453658.6667487729,5803930.428893661 z\" /></g></svg>"
      ],
      "text/plain": [
       "<shapely.geometry.polygon.Polygon at 0x7f63c0167a58>"
      ]
     },
     "execution_count": 11,
     "metadata": {},
     "output_type": "execute_result"
    }
   ],
   "source": [
    "composites.iloc[0].geometry\n"
   ]
  },
  {
   "cell_type": "code",
   "execution_count": 12,
   "metadata": {
    "scrolled": true
   },
   "outputs": [
    {
     "data": {
      "text/plain": [
       "array(['Composite wallhalla 397,398 & 401 20190225 (1311 to 1342hrs)',\n",
       "       'macalister 681 & 682, (684 & 685 minor) composite 0517-0539hrs',\n",
       "       'composite macalister97 803, 806 &  807 1455-1532hrs',\n",
       "       'macalister91 751, 752, 755, 760, 761 & 762 composite 1549-1730hrs',\n",
       "       'macalister91 766,767 & 770 composite 1239-1314hrs',\n",
       "       'macalister91 775, 776, 779 & 783 composite 1345-1643hrs',\n",
       "       'macalister91 789, 790 & 793 composite 1330-1358hrs',\n",
       "       'macalister91 804, 805 & 808 composite 1503-1539hrs',\n",
       "       'macalister91 646,648 & 649 composite - 0440hrs to 0453hrs',\n",
       "       'macalister 695,698 & 699 composite 1542 - 1610hrs',\n",
       "       'macalister 696,697,700 - 1545-1613hrs',\n",
       "       'Composite wallhalla 380 & 381 20190206 (1347 & 1356hrs)'],\n",
       "      dtype=object)"
      ]
     },
     "execution_count": 12,
     "metadata": {},
     "output_type": "execute_result"
    }
   ],
   "source": [
    "dict_keys = composites.SourceName.unique()\n",
    "dict_keys"
   ]
  },
  {
   "cell_type": "code",
   "execution_count": 13,
   "metadata": {},
   "outputs": [],
   "source": [
    "fires = ['wallhalla','macalister91','macalister97','macalister']\n",
    "dictt = {}\n",
    "for k in dict_keys:\n",
    "    dictt[k] = []\n",
    "    splitt = k.replace(',',' ').replace('(',' ').split(' ')\n",
    "    for f in fires:\n",
    "        try:\n",
    "            ff = splitt[splitt.index(f)]\n",
    "            break\n",
    "        except: pass\n",
    "    for w in splitt:\n",
    "        if len(w)==3:\n",
    "            try:\n",
    "                int(w)\n",
    "                dictt[k].append(ff+'_' + w)               \n",
    "            except: pass"
   ]
  },
  {
   "cell_type": "code",
   "execution_count": 15,
   "metadata": {},
   "outputs": [],
   "source": [
    "compo_cleaned = pd.DataFrame(columns = composites.columns)\n",
    "\n",
    "for l in range(len(composites)):\n",
    "    for cell in dictt[composites.iloc[l].SourceName]:\n",
    "        compo_cleaned = compo_cleaned.append(composites.iloc[l])\n",
    "        compo_cleaned.SourceName.iloc[-1] = cell"
   ]
  },
  {
   "cell_type": "code",
   "execution_count": 16,
   "metadata": {},
   "outputs": [],
   "source": [
    "# clean the name\n",
    "\n",
    "compo_cleaned.SourceName = compo_cleaned.apply(lambda row: row.SourceName +'_P1_' + row.dtString.replace(' ','').replace(':','').replace('/','')[:12] + '_mga94_55', axis =1)"
   ]
  },
  {
   "cell_type": "code",
   "execution_count": 149,
   "metadata": {
    "scrolled": true
   },
   "outputs": [
    {
     "data": {
      "text/html": [
       "<div>\n",
       "<style scoped>\n",
       "    .dataframe tbody tr th:only-of-type {\n",
       "        vertical-align: middle;\n",
       "    }\n",
       "\n",
       "    .dataframe tbody tr th {\n",
       "        vertical-align: top;\n",
       "    }\n",
       "\n",
       "    .dataframe thead th {\n",
       "        text-align: right;\n",
       "    }\n",
       "</style>\n",
       "<table border=\"1\" class=\"dataframe\">\n",
       "  <thead>\n",
       "    <tr style=\"text-align: right;\">\n",
       "      <th></th>\n",
       "      <th>Source</th>\n",
       "      <th>SourceName</th>\n",
       "      <th>Type</th>\n",
       "      <th>dtString</th>\n",
       "      <th>Comments</th>\n",
       "      <th>dtUTC</th>\n",
       "      <th>dtLocal</th>\n",
       "      <th>ID</th>\n",
       "      <th>event</th>\n",
       "      <th>geometry</th>\n",
       "    </tr>\n",
       "  </thead>\n",
       "  <tbody>\n",
       "    <tr>\n",
       "      <th>0</th>\n",
       "      <td>Linescan</td>\n",
       "      <td>aberfeldy west 200 p1_201901260955_mga94_55.jpg</td>\n",
       "      <td>Initial ignition</td>\n",
       "      <td>2019/01/26 09:55:00.000</td>\n",
       "      <td>originally Latrobe 87 - Jericho - Jim Track</td>\n",
       "      <td>2019-01-25 22:55:00</td>\n",
       "      <td>2019-01-26 09:55:00</td>\n",
       "      <td>0</td>\n",
       "      <td>Latrobe86</td>\n",
       "      <td>POLYGON ((431455.605 5829806.837, 431460.570 5...</td>\n",
       "    </tr>\n",
       "    <tr>\n",
       "      <th>1</th>\n",
       "      <td>Linescan</td>\n",
       "      <td>aberfeldy west 200 p1_201901260955_mga94_55.jpg</td>\n",
       "      <td>Initial ignition</td>\n",
       "      <td>2019/01/26 09:55:00.000</td>\n",
       "      <td>originally Latrobe 86 - Jericho - Thomson - Jo...</td>\n",
       "      <td>2019-01-25 22:55:00</td>\n",
       "      <td>2019-01-26 09:55:00</td>\n",
       "      <td>1</td>\n",
       "      <td>Latrobe86</td>\n",
       "      <td>POLYGON ((433874.449 5827986.798, 433882.377 5...</td>\n",
       "    </tr>\n",
       "    <tr>\n",
       "      <th>2</th>\n",
       "      <td>Linescan</td>\n",
       "      <td>aberfeldy west 200 p1_201901260955_mga94_55.jpg</td>\n",
       "      <td>Initial ignition</td>\n",
       "      <td>2019/01/26 09:55:00.000</td>\n",
       "      <td>originally Latrobe 85 - Jericho - Cream Can Hill</td>\n",
       "      <td>2019-01-25 22:55:00</td>\n",
       "      <td>2019-01-26 09:55:00</td>\n",
       "      <td>2</td>\n",
       "      <td>Latrobe86</td>\n",
       "      <td>POLYGON ((430459.914 5831285.492, 430457.641 5...</td>\n",
       "    </tr>\n",
       "    <tr>\n",
       "      <th>3</th>\n",
       "      <td>Linescan</td>\n",
       "      <td>aberfeldy west 214 p1_201901261750_mga94_55.jpg</td>\n",
       "      <td>Spot</td>\n",
       "      <td>2019/01/26 17:50:00.000</td>\n",
       "      <td>originally Latrobe 87 - Jericho - Jim Track</td>\n",
       "      <td>2019-01-26 06:50:00</td>\n",
       "      <td>2019-01-26 17:50:00</td>\n",
       "      <td>3</td>\n",
       "      <td>Latrobe86</td>\n",
       "      <td>POLYGON ((431937.376 5829943.371, 431941.068 5...</td>\n",
       "    </tr>\n",
       "    <tr>\n",
       "      <th>4</th>\n",
       "      <td>Linescan</td>\n",
       "      <td>aberfeldy west 214 p1_201901261750_mga94_55.jpg</td>\n",
       "      <td>Main run</td>\n",
       "      <td>2019/01/26 17:50:00.000</td>\n",
       "      <td>originally Latrobe 87 - Jericho - Jim Track</td>\n",
       "      <td>2019-01-26 06:50:00</td>\n",
       "      <td>2019-01-26 17:50:00</td>\n",
       "      <td>4</td>\n",
       "      <td>Latrobe86</td>\n",
       "      <td>POLYGON ((431541.651 5829804.025, 431547.139 5...</td>\n",
       "    </tr>\n",
       "  </tbody>\n",
       "</table>\n",
       "</div>"
      ],
      "text/plain": [
       "     Source                                       SourceName  \\\n",
       "0  Linescan  aberfeldy west 200 p1_201901260955_mga94_55.jpg   \n",
       "1  Linescan  aberfeldy west 200 p1_201901260955_mga94_55.jpg   \n",
       "2  Linescan  aberfeldy west 200 p1_201901260955_mga94_55.jpg   \n",
       "3  Linescan  aberfeldy west 214 p1_201901261750_mga94_55.jpg   \n",
       "4  Linescan  aberfeldy west 214 p1_201901261750_mga94_55.jpg   \n",
       "\n",
       "               Type                 dtString  \\\n",
       "0  Initial ignition  2019/01/26 09:55:00.000   \n",
       "1  Initial ignition  2019/01/26 09:55:00.000   \n",
       "2  Initial ignition  2019/01/26 09:55:00.000   \n",
       "3              Spot  2019/01/26 17:50:00.000   \n",
       "4          Main run  2019/01/26 17:50:00.000   \n",
       "\n",
       "                                            Comments                dtUTC  \\\n",
       "0        originally Latrobe 87 - Jericho - Jim Track  2019-01-25 22:55:00   \n",
       "1  originally Latrobe 86 - Jericho - Thomson - Jo...  2019-01-25 22:55:00   \n",
       "2   originally Latrobe 85 - Jericho - Cream Can Hill  2019-01-25 22:55:00   \n",
       "3        originally Latrobe 87 - Jericho - Jim Track  2019-01-26 06:50:00   \n",
       "4        originally Latrobe 87 - Jericho - Jim Track  2019-01-26 06:50:00   \n",
       "\n",
       "               dtLocal ID      event  \\\n",
       "0  2019-01-26 09:55:00  0  Latrobe86   \n",
       "1  2019-01-26 09:55:00  1  Latrobe86   \n",
       "2  2019-01-26 09:55:00  2  Latrobe86   \n",
       "3  2019-01-26 17:50:00  3  Latrobe86   \n",
       "4  2019-01-26 17:50:00  4  Latrobe86   \n",
       "\n",
       "                                            geometry  \n",
       "0  POLYGON ((431455.605 5829806.837, 431460.570 5...  \n",
       "1  POLYGON ((433874.449 5827986.798, 433882.377 5...  \n",
       "2  POLYGON ((430459.914 5831285.492, 430457.641 5...  \n",
       "3  POLYGON ((431937.376 5829943.371, 431941.068 5...  \n",
       "4  POLYGON ((431541.651 5829804.025, 431547.139 5...  "
      ]
     },
     "execution_count": 149,
     "metadata": {},
     "output_type": "execute_result"
    }
   ],
   "source": [
    "new_gdf = pd.concat([gdf[pd.Series(1 - mask, dtype= bool)],compo_cleaned ])\n",
    "new_gdf.head()"
   ]
  },
  {
   "cell_type": "markdown",
   "metadata": {},
   "source": [
    "### Cleaning Up Polygon Dataset"
   ]
  },
  {
   "cell_type": "markdown",
   "metadata": {},
   "source": [
    "Let's work on the string formatting first. The format is slightly different between the linescan label field and the polygon SourceName field. The white spaces have been replaced with underscores and the '.jpg' at the end of the filename has been removed, and its in upper case. To clean up the SourceName field in the polygon dataset, first we create a function and test it, and then apply it across the dataset. We also need to make sure we keep in mind that composite SourceNames don't have a '.jpg' at the end, and so should be treated slightly differently.\n",
    "\n",
    "In the same step, we'll also format the datetime fields in the same step as they're currently formatted as strings. \n"
   ]
  },
  {
   "cell_type": "code",
   "execution_count": 20,
   "metadata": {
    "scrolled": false
   },
   "outputs": [
    {
     "name": "stdout",
     "output_type": "stream",
     "text": [
      "ABERFELDY_WEST_200_P1_201901260955_MGA94_55\n",
      "COMPOSITE_WALLHALLA_397,398_&_401_20190225_(1311_TO_1342HRS)\n"
     ]
    }
   ],
   "source": [
    "def clean_name(name):\n",
    "    if name is None:\n",
    "        return ''\n",
    "    if name.upper()[-4::] == \".JPG\":\n",
    "        return name.upper()[:-4].replace(' ','_')\n",
    "    return  name.upper().replace(' ','_')\n",
    "\n",
    "test_string = 'aberfeldy west 200 p1_201901260955_mga94_55.jpg'\n",
    "test_string_composite = 'Composite wallhalla 397,398 & 401 20190225 (1311 to 1342hrs)'\n",
    "print(clean_name(test_string))\n",
    "print(clean_name(test_string_composite))"
   ]
  },
  {
   "cell_type": "code",
   "execution_count": 150,
   "metadata": {},
   "outputs": [
    {
     "data": {
      "text/html": [
       "<div>\n",
       "<style scoped>\n",
       "    .dataframe tbody tr th:only-of-type {\n",
       "        vertical-align: middle;\n",
       "    }\n",
       "\n",
       "    .dataframe tbody tr th {\n",
       "        vertical-align: top;\n",
       "    }\n",
       "\n",
       "    .dataframe thead th {\n",
       "        text-align: right;\n",
       "    }\n",
       "</style>\n",
       "<table border=\"1\" class=\"dataframe\">\n",
       "  <thead>\n",
       "    <tr style=\"text-align: right;\">\n",
       "      <th></th>\n",
       "      <th>Source</th>\n",
       "      <th>SourceName</th>\n",
       "      <th>Type</th>\n",
       "      <th>dtString</th>\n",
       "      <th>Comments</th>\n",
       "      <th>dtUTC</th>\n",
       "      <th>dtLocal</th>\n",
       "      <th>ID</th>\n",
       "      <th>event</th>\n",
       "      <th>geometry</th>\n",
       "      <th>SourceNameClean</th>\n",
       "    </tr>\n",
       "  </thead>\n",
       "  <tbody>\n",
       "    <tr>\n",
       "      <th>0</th>\n",
       "      <td>Linescan</td>\n",
       "      <td>aberfeldy west 200 p1_201901260955_mga94_55.jpg</td>\n",
       "      <td>Initial ignition</td>\n",
       "      <td>2019/01/26 09:55:00.000</td>\n",
       "      <td>originally Latrobe 87 - Jericho - Jim Track</td>\n",
       "      <td>2019-01-25 22:55:00</td>\n",
       "      <td>2019-01-26 09:55:00</td>\n",
       "      <td>0</td>\n",
       "      <td>Latrobe86</td>\n",
       "      <td>POLYGON ((431455.605 5829806.837, 431460.570 5...</td>\n",
       "      <td>ABERFELDY_WEST_200_P1_201901260955_MGA94_55</td>\n",
       "    </tr>\n",
       "    <tr>\n",
       "      <th>1</th>\n",
       "      <td>Linescan</td>\n",
       "      <td>aberfeldy west 200 p1_201901260955_mga94_55.jpg</td>\n",
       "      <td>Initial ignition</td>\n",
       "      <td>2019/01/26 09:55:00.000</td>\n",
       "      <td>originally Latrobe 86 - Jericho - Thomson - Jo...</td>\n",
       "      <td>2019-01-25 22:55:00</td>\n",
       "      <td>2019-01-26 09:55:00</td>\n",
       "      <td>1</td>\n",
       "      <td>Latrobe86</td>\n",
       "      <td>POLYGON ((433874.449 5827986.798, 433882.377 5...</td>\n",
       "      <td>ABERFELDY_WEST_200_P1_201901260955_MGA94_55</td>\n",
       "    </tr>\n",
       "    <tr>\n",
       "      <th>2</th>\n",
       "      <td>Linescan</td>\n",
       "      <td>aberfeldy west 200 p1_201901260955_mga94_55.jpg</td>\n",
       "      <td>Initial ignition</td>\n",
       "      <td>2019/01/26 09:55:00.000</td>\n",
       "      <td>originally Latrobe 85 - Jericho - Cream Can Hill</td>\n",
       "      <td>2019-01-25 22:55:00</td>\n",
       "      <td>2019-01-26 09:55:00</td>\n",
       "      <td>2</td>\n",
       "      <td>Latrobe86</td>\n",
       "      <td>POLYGON ((430459.914 5831285.492, 430457.641 5...</td>\n",
       "      <td>ABERFELDY_WEST_200_P1_201901260955_MGA94_55</td>\n",
       "    </tr>\n",
       "    <tr>\n",
       "      <th>3</th>\n",
       "      <td>Linescan</td>\n",
       "      <td>aberfeldy west 214 p1_201901261750_mga94_55.jpg</td>\n",
       "      <td>Spot</td>\n",
       "      <td>2019/01/26 17:50:00.000</td>\n",
       "      <td>originally Latrobe 87 - Jericho - Jim Track</td>\n",
       "      <td>2019-01-26 06:50:00</td>\n",
       "      <td>2019-01-26 17:50:00</td>\n",
       "      <td>3</td>\n",
       "      <td>Latrobe86</td>\n",
       "      <td>POLYGON ((431937.376 5829943.371, 431941.068 5...</td>\n",
       "      <td>ABERFELDY_WEST_214_P1_201901261750_MGA94_55</td>\n",
       "    </tr>\n",
       "    <tr>\n",
       "      <th>4</th>\n",
       "      <td>Linescan</td>\n",
       "      <td>aberfeldy west 214 p1_201901261750_mga94_55.jpg</td>\n",
       "      <td>Main run</td>\n",
       "      <td>2019/01/26 17:50:00.000</td>\n",
       "      <td>originally Latrobe 87 - Jericho - Jim Track</td>\n",
       "      <td>2019-01-26 06:50:00</td>\n",
       "      <td>2019-01-26 17:50:00</td>\n",
       "      <td>4</td>\n",
       "      <td>Latrobe86</td>\n",
       "      <td>POLYGON ((431541.651 5829804.025, 431547.139 5...</td>\n",
       "      <td>ABERFELDY_WEST_214_P1_201901261750_MGA94_55</td>\n",
       "    </tr>\n",
       "  </tbody>\n",
       "</table>\n",
       "</div>"
      ],
      "text/plain": [
       "     Source                                       SourceName  \\\n",
       "0  Linescan  aberfeldy west 200 p1_201901260955_mga94_55.jpg   \n",
       "1  Linescan  aberfeldy west 200 p1_201901260955_mga94_55.jpg   \n",
       "2  Linescan  aberfeldy west 200 p1_201901260955_mga94_55.jpg   \n",
       "3  Linescan  aberfeldy west 214 p1_201901261750_mga94_55.jpg   \n",
       "4  Linescan  aberfeldy west 214 p1_201901261750_mga94_55.jpg   \n",
       "\n",
       "               Type                 dtString  \\\n",
       "0  Initial ignition  2019/01/26 09:55:00.000   \n",
       "1  Initial ignition  2019/01/26 09:55:00.000   \n",
       "2  Initial ignition  2019/01/26 09:55:00.000   \n",
       "3              Spot  2019/01/26 17:50:00.000   \n",
       "4          Main run  2019/01/26 17:50:00.000   \n",
       "\n",
       "                                            Comments               dtUTC  \\\n",
       "0        originally Latrobe 87 - Jericho - Jim Track 2019-01-25 22:55:00   \n",
       "1  originally Latrobe 86 - Jericho - Thomson - Jo... 2019-01-25 22:55:00   \n",
       "2   originally Latrobe 85 - Jericho - Cream Can Hill 2019-01-25 22:55:00   \n",
       "3        originally Latrobe 87 - Jericho - Jim Track 2019-01-26 06:50:00   \n",
       "4        originally Latrobe 87 - Jericho - Jim Track 2019-01-26 06:50:00   \n",
       "\n",
       "              dtLocal ID      event  \\\n",
       "0 2019-01-26 09:55:00  0  Latrobe86   \n",
       "1 2019-01-26 09:55:00  1  Latrobe86   \n",
       "2 2019-01-26 09:55:00  2  Latrobe86   \n",
       "3 2019-01-26 17:50:00  3  Latrobe86   \n",
       "4 2019-01-26 17:50:00  4  Latrobe86   \n",
       "\n",
       "                                            geometry  \\\n",
       "0  POLYGON ((431455.605 5829806.837, 431460.570 5...   \n",
       "1  POLYGON ((433874.449 5827986.798, 433882.377 5...   \n",
       "2  POLYGON ((430459.914 5831285.492, 430457.641 5...   \n",
       "3  POLYGON ((431937.376 5829943.371, 431941.068 5...   \n",
       "4  POLYGON ((431541.651 5829804.025, 431547.139 5...   \n",
       "\n",
       "                               SourceNameClean  \n",
       "0  ABERFELDY_WEST_200_P1_201901260955_MGA94_55  \n",
       "1  ABERFELDY_WEST_200_P1_201901260955_MGA94_55  \n",
       "2  ABERFELDY_WEST_200_P1_201901260955_MGA94_55  \n",
       "3  ABERFELDY_WEST_214_P1_201901261750_MGA94_55  \n",
       "4  ABERFELDY_WEST_214_P1_201901261750_MGA94_55  "
      ]
     },
     "execution_count": 150,
     "metadata": {},
     "output_type": "execute_result"
    }
   ],
   "source": [
    "new_gdf['SourceNameClean'] = new_gdf.apply(lambda row: clean_name(row.SourceName), axis=1)\n",
    "new_gdf.dtUTC = new_gdf.apply(lambda row: datetime.strptime(row.dtUTC, '%Y-%m-%d %H:%M:%S'), axis=1)\n",
    "new_gdf.dtLocal = new_gdf.apply(lambda row: datetime.strptime(row.dtLocal, '%Y-%m-%d %H:%M:%S'), axis=1)\n",
    "new_gdf.head()"
   ]
  },
  {
   "cell_type": "markdown",
   "metadata": {},
   "source": [
    "### une rapide analyse montre que plein de polygone ne sont pas dans les donnees train. \n",
    "C'est du au fait que les minutes sur les composites ne sont pas exactes\n",
    "Or on a 0 train files qui sont les mêmes a une heure pret: solution, on enlève les minutes"
   ]
  },
  {
   "cell_type": "code",
   "execution_count": 153,
   "metadata": {},
   "outputs": [],
   "source": [
    "new_gdf['final_name'] = new_gdf.apply(lambda row: row.SourceNameClean[:-11], axis=1)"
   ]
  },
  {
   "cell_type": "markdown",
   "metadata": {},
   "source": [
    "## create files"
   ]
  },
  {
   "cell_type": "code",
   "execution_count": 155,
   "metadata": {},
   "outputs": [],
   "source": [
    "new_gdf.crs = 'epsg:28355'"
   ]
  },
  {
   "cell_type": "code",
   "execution_count": 156,
   "metadata": {},
   "outputs": [
    {
     "name": "stderr",
     "output_type": "stream",
     "text": [
      " 19%|█▊        | 24/129 [00:21<01:53,  1.08s/it]"
     ]
    },
    {
     "name": "stdout",
     "output_type": "stream",
     "text": [
      "Rasterizing to match xarray.DataArray dimensions (777, 1171)\n"
     ]
    },
    {
     "name": "stderr",
     "output_type": "stream",
     "text": [
      " 21%|██        | 27/129 [00:23<01:23,  1.21it/s]"
     ]
    },
    {
     "name": "stdout",
     "output_type": "stream",
     "text": [
      "Rasterizing to match xarray.DataArray dimensions (1297, 3333)\n"
     ]
    },
    {
     "name": "stderr",
     "output_type": "stream",
     "text": [
      "\r",
      " 22%|██▏       | 28/129 [00:23<01:14,  1.35it/s]"
     ]
    },
    {
     "name": "stdout",
     "output_type": "stream",
     "text": [
      "Rasterizing to match xarray.DataArray dimensions (1873, 2125)\n"
     ]
    },
    {
     "name": "stderr",
     "output_type": "stream",
     "text": [
      " 23%|██▎       | 30/129 [00:25<01:12,  1.36it/s]"
     ]
    },
    {
     "name": "stdout",
     "output_type": "stream",
     "text": [
      "Rasterizing to match xarray.DataArray dimensions (2052, 2196)\n"
     ]
    },
    {
     "name": "stderr",
     "output_type": "stream",
     "text": [
      " 25%|██▍       | 32/129 [00:27<01:25,  1.13it/s]"
     ]
    },
    {
     "name": "stdout",
     "output_type": "stream",
     "text": [
      "Rasterizing to match xarray.DataArray dimensions (2022, 2435)\n"
     ]
    },
    {
     "name": "stderr",
     "output_type": "stream",
     "text": [
      " 26%|██▋       | 34/129 [00:28<01:17,  1.22it/s]"
     ]
    },
    {
     "name": "stdout",
     "output_type": "stream",
     "text": [
      "Rasterizing to match xarray.DataArray dimensions (2295, 1799)\n"
     ]
    },
    {
     "name": "stderr",
     "output_type": "stream",
     "text": [
      "\r",
      " 27%|██▋       | 35/129 [00:29<01:22,  1.14it/s]"
     ]
    },
    {
     "name": "stdout",
     "output_type": "stream",
     "text": [
      "Rasterizing to match xarray.DataArray dimensions (1908, 2142)\n"
     ]
    },
    {
     "name": "stderr",
     "output_type": "stream",
     "text": [
      "\r",
      " 28%|██▊       | 36/129 [00:30<01:14,  1.25it/s]"
     ]
    },
    {
     "name": "stdout",
     "output_type": "stream",
     "text": [
      "Rasterizing to match xarray.DataArray dimensions (1963, 2224)\n"
     ]
    },
    {
     "name": "stderr",
     "output_type": "stream",
     "text": [
      " 30%|███       | 39/129 [00:33<01:13,  1.22it/s]"
     ]
    },
    {
     "name": "stdout",
     "output_type": "stream",
     "text": [
      "Rasterizing to match xarray.DataArray dimensions (1753, 1934)\n"
     ]
    },
    {
     "name": "stderr",
     "output_type": "stream",
     "text": [
      "\r",
      " 31%|███       | 40/129 [00:33<01:13,  1.22it/s]"
     ]
    },
    {
     "name": "stdout",
     "output_type": "stream",
     "text": [
      "Rasterizing to match xarray.DataArray dimensions (3314, 1683)\n"
     ]
    },
    {
     "name": "stderr",
     "output_type": "stream",
     "text": [
      " 33%|███▎      | 42/129 [00:34<00:57,  1.52it/s]"
     ]
    },
    {
     "name": "stdout",
     "output_type": "stream",
     "text": [
      "Rasterizing to match xarray.DataArray dimensions (2440, 2132)\n"
     ]
    },
    {
     "name": "stderr",
     "output_type": "stream",
     "text": [
      " 40%|███▉      | 51/129 [00:40<00:56,  1.37it/s]"
     ]
    },
    {
     "name": "stdout",
     "output_type": "stream",
     "text": [
      "Rasterizing to match xarray.DataArray dimensions (2847, 2720)\n"
     ]
    },
    {
     "name": "stderr",
     "output_type": "stream",
     "text": [
      " 51%|█████     | 66/129 [01:00<01:30,  1.43s/it]"
     ]
    },
    {
     "name": "stdout",
     "output_type": "stream",
     "text": [
      "Rasterizing to match xarray.DataArray dimensions (3509, 3770)\n"
     ]
    },
    {
     "name": "stderr",
     "output_type": "stream",
     "text": [
      " 54%|█████▍    | 70/129 [01:03<00:53,  1.11it/s]"
     ]
    },
    {
     "name": "stdout",
     "output_type": "stream",
     "text": [
      "Rasterizing to match xarray.DataArray dimensions (3981, 2973)\n"
     ]
    },
    {
     "name": "stderr",
     "output_type": "stream",
     "text": [
      " 57%|█████▋    | 73/129 [01:06<00:48,  1.15it/s]"
     ]
    },
    {
     "name": "stdout",
     "output_type": "stream",
     "text": [
      "Rasterizing to match xarray.DataArray dimensions (3736, 3548)\n"
     ]
    },
    {
     "name": "stderr",
     "output_type": "stream",
     "text": [
      "\r",
      " 57%|█████▋    | 74/129 [01:07<00:47,  1.15it/s]"
     ]
    },
    {
     "name": "stdout",
     "output_type": "stream",
     "text": [
      "Rasterizing to match xarray.DataArray dimensions (4124, 3915)\n"
     ]
    },
    {
     "name": "stderr",
     "output_type": "stream",
     "text": [
      "\r",
      " 58%|█████▊    | 75/129 [01:07<00:41,  1.30it/s]"
     ]
    },
    {
     "name": "stdout",
     "output_type": "stream",
     "text": [
      "Rasterizing to match xarray.DataArray dimensions (3531, 2005)\n"
     ]
    },
    {
     "name": "stderr",
     "output_type": "stream",
     "text": [
      " 60%|█████▉    | 77/129 [01:09<00:41,  1.24it/s]"
     ]
    },
    {
     "name": "stdout",
     "output_type": "stream",
     "text": [
      "Rasterizing to match xarray.DataArray dimensions (3584, 2623)\n"
     ]
    },
    {
     "name": "stderr",
     "output_type": "stream",
     "text": [
      " 62%|██████▏   | 80/129 [01:11<00:37,  1.29it/s]"
     ]
    },
    {
     "name": "stdout",
     "output_type": "stream",
     "text": [
      "Rasterizing to match xarray.DataArray dimensions (2855, 2389)\n"
     ]
    },
    {
     "name": "stderr",
     "output_type": "stream",
     "text": [
      " 64%|██████▍   | 83/129 [01:14<00:38,  1.20it/s]"
     ]
    },
    {
     "name": "stdout",
     "output_type": "stream",
     "text": [
      "Rasterizing to match xarray.DataArray dimensions (3075, 2637)\n"
     ]
    },
    {
     "name": "stderr",
     "output_type": "stream",
     "text": [
      " 67%|██████▋   | 87/129 [01:17<00:33,  1.25it/s]"
     ]
    },
    {
     "name": "stdout",
     "output_type": "stream",
     "text": [
      "Rasterizing to match xarray.DataArray dimensions (5084, 3663)\n"
     ]
    },
    {
     "name": "stderr",
     "output_type": "stream",
     "text": [
      "\r",
      " 68%|██████▊   | 88/129 [01:18<00:29,  1.38it/s]"
     ]
    },
    {
     "name": "stdout",
     "output_type": "stream",
     "text": [
      "Rasterizing to match xarray.DataArray dimensions (3313, 2770)\n"
     ]
    },
    {
     "name": "stderr",
     "output_type": "stream",
     "text": [
      "\r",
      " 69%|██████▉   | 89/129 [01:19<00:32,  1.25it/s]"
     ]
    },
    {
     "name": "stdout",
     "output_type": "stream",
     "text": [
      "Rasterizing to match xarray.DataArray dimensions (3924, 2792)\n"
     ]
    },
    {
     "name": "stderr",
     "output_type": "stream",
     "text": [
      " 71%|███████▏  | 92/129 [01:23<00:44,  1.21s/it]"
     ]
    },
    {
     "name": "stdout",
     "output_type": "stream",
     "text": [
      "Rasterizing to match xarray.DataArray dimensions (2864, 2625)\n"
     ]
    },
    {
     "name": "stderr",
     "output_type": "stream",
     "text": [
      "\r",
      " 72%|███████▏  | 93/129 [01:24<00:38,  1.08s/it]"
     ]
    },
    {
     "name": "stdout",
     "output_type": "stream",
     "text": [
      "Rasterizing to match xarray.DataArray dimensions (3164, 2068)\n"
     ]
    },
    {
     "name": "stderr",
     "output_type": "stream",
     "text": [
      " 74%|███████▎  | 95/129 [01:26<00:34,  1.02s/it]"
     ]
    },
    {
     "name": "stdout",
     "output_type": "stream",
     "text": [
      "Rasterizing to match xarray.DataArray dimensions (4447, 3094)\n"
     ]
    },
    {
     "name": "stderr",
     "output_type": "stream",
     "text": [
      "\r",
      " 74%|███████▍  | 96/129 [01:26<00:29,  1.11it/s]"
     ]
    },
    {
     "name": "stdout",
     "output_type": "stream",
     "text": [
      "Rasterizing to match xarray.DataArray dimensions (2844, 2291)\n"
     ]
    },
    {
     "name": "stderr",
     "output_type": "stream",
     "text": [
      "\r",
      " 75%|███████▌  | 97/129 [01:27<00:26,  1.19it/s]"
     ]
    },
    {
     "name": "stdout",
     "output_type": "stream",
     "text": [
      "Rasterizing to match xarray.DataArray dimensions (3512, 2711)\n"
     ]
    },
    {
     "name": "stderr",
     "output_type": "stream",
     "text": [
      "\r",
      " 76%|███████▌  | 98/129 [01:28<00:25,  1.23it/s]"
     ]
    },
    {
     "name": "stdout",
     "output_type": "stream",
     "text": [
      "Rasterizing to match xarray.DataArray dimensions (3416, 1878)\n"
     ]
    },
    {
     "name": "stderr",
     "output_type": "stream",
     "text": [
      " 79%|███████▉  | 102/129 [01:31<00:21,  1.23it/s]"
     ]
    },
    {
     "name": "stdout",
     "output_type": "stream",
     "text": [
      "Rasterizing to match xarray.DataArray dimensions (5799, 3220)\n"
     ]
    },
    {
     "name": "stderr",
     "output_type": "stream",
     "text": [
      "\r",
      " 80%|███████▉  | 103/129 [01:33<00:29,  1.15s/it]"
     ]
    },
    {
     "name": "stdout",
     "output_type": "stream",
     "text": [
      "Rasterizing to match xarray.DataArray dimensions (5791, 3371)\n"
     ]
    },
    {
     "name": "stderr",
     "output_type": "stream",
     "text": [
      "\r",
      " 81%|████████  | 104/129 [01:34<00:30,  1.22s/it]"
     ]
    },
    {
     "name": "stdout",
     "output_type": "stream",
     "text": [
      "Rasterizing to match xarray.DataArray dimensions (5945, 3321)\n"
     ]
    },
    {
     "name": "stderr",
     "output_type": "stream",
     "text": [
      " 82%|████████▏ | 106/129 [01:36<00:25,  1.12s/it]"
     ]
    },
    {
     "name": "stdout",
     "output_type": "stream",
     "text": [
      "Rasterizing to match xarray.DataArray dimensions (3210, 2264)\n"
     ]
    },
    {
     "name": "stderr",
     "output_type": "stream",
     "text": [
      "\r",
      " 83%|████████▎ | 107/129 [01:40<00:41,  1.89s/it]"
     ]
    },
    {
     "name": "stdout",
     "output_type": "stream",
     "text": [
      "Rasterizing to match xarray.DataArray dimensions (5821, 3195)\n"
     ]
    },
    {
     "name": "stderr",
     "output_type": "stream",
     "text": [
      "\r",
      " 84%|████████▎ | 108/129 [01:42<00:40,  1.92s/it]"
     ]
    },
    {
     "name": "stdout",
     "output_type": "stream",
     "text": [
      "Rasterizing to match xarray.DataArray dimensions (5300, 3263)\n"
     ]
    },
    {
     "name": "stderr",
     "output_type": "stream",
     "text": [
      "\r",
      " 84%|████████▍ | 109/129 [01:43<00:32,  1.60s/it]"
     ]
    },
    {
     "name": "stdout",
     "output_type": "stream",
     "text": [
      "Rasterizing to match xarray.DataArray dimensions (3049, 2434)\n"
     ]
    },
    {
     "name": "stderr",
     "output_type": "stream",
     "text": [
      "\r",
      " 85%|████████▌ | 110/129 [01:44<00:26,  1.38s/it]"
     ]
    },
    {
     "name": "stdout",
     "output_type": "stream",
     "text": [
      "Rasterizing to match xarray.DataArray dimensions (3052, 2171)\n"
     ]
    },
    {
     "name": "stderr",
     "output_type": "stream",
     "text": [
      " 88%|████████▊ | 113/129 [01:47<00:17,  1.06s/it]"
     ]
    },
    {
     "name": "stdout",
     "output_type": "stream",
     "text": [
      "Rasterizing to match xarray.DataArray dimensions (3127, 2378)\n"
     ]
    },
    {
     "name": "stderr",
     "output_type": "stream",
     "text": [
      "\r",
      " 88%|████████▊ | 114/129 [01:47<00:13,  1.10it/s]"
     ]
    },
    {
     "name": "stdout",
     "output_type": "stream",
     "text": [
      "Rasterizing to match xarray.DataArray dimensions (3266, 2371)\n"
     ]
    },
    {
     "name": "stderr",
     "output_type": "stream",
     "text": [
      "\r",
      " 89%|████████▉ | 115/129 [01:48<00:11,  1.21it/s]"
     ]
    },
    {
     "name": "stdout",
     "output_type": "stream",
     "text": [
      "Rasterizing to match xarray.DataArray dimensions (3132, 2352)\n"
     ]
    },
    {
     "name": "stderr",
     "output_type": "stream",
     "text": [
      " 91%|█████████ | 117/129 [01:50<00:10,  1.17it/s]"
     ]
    },
    {
     "name": "stdout",
     "output_type": "stream",
     "text": [
      "Rasterizing to match xarray.DataArray dimensions (5384, 3074)\n"
     ]
    },
    {
     "name": "stderr",
     "output_type": "stream",
     "text": [
      " 92%|█████████▏| 119/129 [01:51<00:08,  1.22it/s]"
     ]
    },
    {
     "name": "stdout",
     "output_type": "stream",
     "text": [
      "Rasterizing to match xarray.DataArray dimensions (3002, 2469)\n"
     ]
    },
    {
     "name": "stderr",
     "output_type": "stream",
     "text": [
      "\r",
      " 93%|█████████▎| 120/129 [01:53<00:09,  1.00s/it]"
     ]
    },
    {
     "name": "stdout",
     "output_type": "stream",
     "text": [
      "Rasterizing to match xarray.DataArray dimensions (5275, 3305)\n"
     ]
    },
    {
     "name": "stderr",
     "output_type": "stream",
     "text": [
      "\r",
      " 94%|█████████▍| 121/129 [01:54<00:08,  1.10s/it]"
     ]
    },
    {
     "name": "stdout",
     "output_type": "stream",
     "text": [
      "Rasterizing to match xarray.DataArray dimensions (5867, 3133)\n"
     ]
    },
    {
     "name": "stderr",
     "output_type": "stream",
     "text": [
      "\r",
      " 95%|█████████▍| 122/129 [01:55<00:06,  1.05it/s]"
     ]
    },
    {
     "name": "stdout",
     "output_type": "stream",
     "text": [
      "Rasterizing to match xarray.DataArray dimensions (3483, 2252)\n"
     ]
    },
    {
     "name": "stderr",
     "output_type": "stream",
     "text": [
      " 96%|█████████▌| 124/129 [01:57<00:05,  1.00s/it]"
     ]
    },
    {
     "name": "stdout",
     "output_type": "stream",
     "text": [
      "Rasterizing to match xarray.DataArray dimensions (5255, 3327)\n"
     ]
    },
    {
     "name": "stderr",
     "output_type": "stream",
     "text": [
      "\r",
      " 97%|█████████▋| 125/129 [01:57<00:03,  1.07it/s]"
     ]
    },
    {
     "name": "stdout",
     "output_type": "stream",
     "text": [
      "Rasterizing to match xarray.DataArray dimensions (3381, 1795)\n"
     ]
    },
    {
     "name": "stderr",
     "output_type": "stream",
     "text": [
      "100%|██████████| 129/129 [02:04<00:00,  1.04it/s]"
     ]
    },
    {
     "name": "stdout",
     "output_type": "stream",
     "text": [
      "Rasterizing to match xarray.DataArray dimensions (5355, 3357)\n"
     ]
    },
    {
     "name": "stderr",
     "output_type": "stream",
     "text": [
      "\n"
     ]
    }
   ],
   "source": [
    "the_big_list = []\n",
    "for sample in tqdm.tqdm(range(len(train))):\n",
    "    fname = linescan_datasets[sample].metadata_doc['label'][:-11]\n",
    "    ob = new_gdf.loc[new_gdf.final_name == fname]\n",
    "    \n",
    "    # print(f\"There are {len(ob)} polygons for linescan {fname}\")\n",
    "    src = dc.load(product='linescan', id=linescan_datasets[sample].id, output_crs='epsg:28355', resolution=(-10,10))\n",
    "    if len(ob)>0:\n",
    "        tgt = xr_rasterize(gdf=ob, da=src)\n",
    "    else:\n",
    "        tgt = src.linescan[0]*0\n",
    "    the_big_list.append({'input': src.linescan,  'target': tgt})"
   ]
  },
  {
   "cell_type": "code",
   "execution_count": 157,
   "metadata": {
    "scrolled": true
   },
   "outputs": [],
   "source": [
    "dimensions = np.zeros((len(train),2),dtype=int)\n",
    "means = np.zeros(len(train))\n",
    "for (d,dico) in enumerate(the_big_list):\n",
    "    dimensions[d] = dico['target'].shape\n",
    "    means[d] = dico['target'].mean()"
   ]
  },
  {
   "cell_type": "code",
   "execution_count": 158,
   "metadata": {},
   "outputs": [
    {
     "data": {
      "text/plain": [
       "47"
      ]
     },
     "execution_count": 158,
     "metadata": {},
     "output_type": "execute_result"
    }
   ],
   "source": [
    "(means>0).sum()"
   ]
  },
  {
   "cell_type": "code",
   "execution_count": null,
   "metadata": {},
   "outputs": [],
   "source": []
  }
 ],
 "metadata": {
  "kernelspec": {
   "display_name": "Python 3",
   "language": "python",
   "name": "python3"
  },
  "language_info": {
   "codemirror_mode": {
    "name": "ipython",
    "version": 3
   },
   "file_extension": ".py",
   "mimetype": "text/x-python",
   "name": "python",
   "nbconvert_exporter": "python",
   "pygments_lexer": "ipython3",
   "version": "3.6.9"
  }
 },
 "nbformat": 4,
 "nbformat_minor": 4
}
