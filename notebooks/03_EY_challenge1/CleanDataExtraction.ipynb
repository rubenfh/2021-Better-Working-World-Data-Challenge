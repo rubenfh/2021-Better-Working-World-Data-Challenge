{
 "cells": [
  {
   "cell_type": "markdown",
   "metadata": {},
   "source": [
    "# Challenge 1 - Getting started <img align=\"right\" src=\"../Supplementary_data/EY_logo.png\" style=\"margin:0px 50px\">\n",
    "\n",
    "Welcome to the 2021 Better Working World Data Challenge! \n",
    "\n",
    "This notebook will show you how to open and explore the data, identify problematic areas of the data, create a basic solution to the problem, and submit your results via the EY Data Science platform.\n",
    "\n",
    "Prior to running this notebook, make sure you have:\n",
    "* **Created a profile** on the [EY Data Science Platform](https://datascience.ey.com/)\n",
    "* **Registered** for \"Challenge 1: Fire mapping\" on the Platform\n",
    "\n",
    "We also recommend checking out the resources in the \"01_Beginners_guide\" folder to learn about jupyter notebooks and the Open Data Cube before coming back here."
   ]
  },
  {
   "cell_type": "markdown",
   "metadata": {},
   "source": [
    "### Your task\n",
    "\n",
    "The training dataset contains 129 linescan images (infra-red images taken from an airplane) of bushfires in Victoria, Australia, during the first three months of 2019. There are also polygons showing where the fire is in each image, which have been hand-drawn by our collaborators at the Country Fire Authority (CFA). These polygons are the ground truth your solution should be able to recreate.\n",
    "\n",
    "There are an additional 5 linescan images, the test dataset, where the polygons showing the fire boundaries have not been provided. Your task is to train a model or process which can produce a fire boundary for the remaining 5 linescans with no polygon.\n",
    "\n",
    "All the linescan images (both the traning and test sets) are served via the Open Data Cube python library. The polygons are already available in your environment."
   ]
  },
  {
   "cell_type": "markdown",
   "metadata": {},
   "source": [
    "### Import libraries and instantiate a datacube"
   ]
  },
  {
   "cell_type": "code",
   "execution_count": 1,
   "metadata": {
    "scrolled": false
   },
   "outputs": [
    {
     "name": "stderr",
     "output_type": "stream",
     "text": [
      "/env/lib/python3.6/site-packages/geopandas/_compat.py:110: UserWarning: The Shapely GEOS version (3.7.2-CAPI-1.11.0 ) is incompatible with the GEOS version PyGEOS was compiled with (3.9.0-CAPI-1.16.2). Conversions between both will be slow.\n",
      "  shapely_geos_version, geos_capi_version_string\n"
     ]
    }
   ],
   "source": [
    "%matplotlib inline\n",
    "import sys\n",
    "import numpy as np\n",
    "import pandas as pd\n",
    "import geopandas as gpd\n",
    "from datetime import datetime\n",
    "\n",
    "from datacube import Datacube\n",
    "import matplotlib.pyplot as plt\n",
    "\n",
    "import tqdm\n",
    "from odc.ui import with_ui_cbk # progress_cbk=with_ui_cbk(),\n",
    "\n",
    "sys.path.append(\"../scripts\")\n",
    "from dea_plotting import map_shapefile\n",
    "from dea_spatialtools import xr_rasterize"
   ]
  },
  {
   "cell_type": "code",
   "execution_count": 2,
   "metadata": {},
   "outputs": [],
   "source": [
    "dc = Datacube(app=\"Data Preparation\")"
   ]
  },
  {
   "cell_type": "markdown",
   "metadata": {},
   "source": [
    "## Import variables\n",
    "### Import input variable: aerial linescan images"
   ]
  },
  {
   "cell_type": "markdown",
   "metadata": {},
   "source": [
    "Firstly, let's query the datacube object to identify what linescans are available. We'll also sort them by ID to ensure they're ordered consistently for this guide."
   ]
  },
  {
   "cell_type": "code",
   "execution_count": 3,
   "metadata": {
    "scrolled": false
   },
   "outputs": [
    {
     "name": "stdout",
     "output_type": "stream",
     "text": [
      "\n",
      "Number of linescan datasets: 134\n"
     ]
    }
   ],
   "source": [
    "linescan_datasets = dc.find_datasets(product='linescan')\n",
    "linescan_datasets = sorted(linescan_datasets, key = lambda ds: (ds.center_time, ds.id))\n",
    "\n",
    "print(f'\\nNumber of linescan datasets: {len(linescan_datasets)}')"
   ]
  },
  {
   "cell_type": "markdown",
   "metadata": {},
   "source": [
    "The results stored in `linescan_datasets` are metadata which describe the various linescan files, including the filename (called the 'label'), extent, date and time of acquisition, and an ID number for that dataset.  Not until we load the dataset can we actually read or view the data. The cell below loads a single linescan from the available list."
   ]
  },
  {
   "cell_type": "code",
   "execution_count": 4,
   "metadata": {
    "scrolled": false
   },
   "outputs": [
    {
     "name": "stdout",
     "output_type": "stream",
     "text": [
      "                                  label     dateTimeLocal       dateTimeUTC\n",
      "id                                                                         \n",
      "0     ROSEDALE_P1_201901041439_MGA94_55   4/01/2019 14:39    4/01/2019 3:39\n",
      "1   ROSEDALE_1_P1_201901041446_MGA94_55   4/01/2019 14:46    4/01/2019 3:46\n",
      "2   ROSEDALE_3_P1_201901041501_MGA94_55   4/01/2019 15:01    4/01/2019 4:01\n",
      "3   POINT_H_62_P1_201901162128_MGA94_55  16/01/2019 21:28  16/01/2019 10:28\n",
      "4   NUNNETT_73_P1_201901171134_MGA94_55  17/01/2019 11:34   17/01/2019 0:34\n",
      "\n",
      "Number of training images: 129\n"
     ]
    }
   ],
   "source": [
    "train = pd.read_csv('resources/challenge1_train.csv', index_col='id')\n",
    "print(train.head())\n",
    "print(f'\\nNumber of training images: {len(train)}')"
   ]
  },
  {
   "cell_type": "code",
   "execution_count": 5,
   "metadata": {},
   "outputs": [
    {
     "data": {
      "text/plain": [
       "array(['ROSEDALE_P1_201901041439_MGA94_55',\n",
       "       'ROSEDALE_1_P1_201901041446_MGA94_55',\n",
       "       'ROSEDALE_3_P1_201901041501_MGA94_55',\n",
       "       'POINT_H_62_P1_201901162128_MGA94_55',\n",
       "       'NUNNETT_73_P1_201901171134_MGA94_55',\n",
       "       'NUNNETT_88_P1_201901171656_MGA94_55',\n",
       "       'NUNNETT_96_P1_201901172230_MGA94_55',\n",
       "       'NUNNETT_107_P1_201901181517_MGA94_55',\n",
       "       'NUNNETT_121_P1_201901191642_MGA94_55',\n",
       "       'NUNNETT_128_P1_201901192201_MGA94_55',\n",
       "       'NUNNETT_173_P1_201901251120_MGA94_55',\n",
       "       'NUNNETT_174_P1_201901251128_MGA94_55',\n",
       "       'NUNNETT_175_P1_201901251137_MGA94_55',\n",
       "       'NUNNETT_176_P1_201901251157_MGA94_55',\n",
       "       'NUNNETT_177_P1_201901251211_MGA94_55',\n",
       "       'NUNNETT_179_P1_201901251234_MGA94_55',\n",
       "       'NUNNETT_180_P1_201901251246_MGA94_55',\n",
       "       'NUNNETT_181_P1_201901251254_MGA94_55',\n",
       "       'NUNNETT_182_P1_201901251321_MGA94_55',\n",
       "       'NUNNETT_183_P1_201901251342_MGA94_55',\n",
       "       'NUNNETT_184_P1_201901251400_MGA94_55',\n",
       "       'NUNNETT_185_P1_201901251419_MGA94_55',\n",
       "       'NUNNETT_186_P1_201901251432_MGA94_55',\n",
       "       'ABERFELDY_WEST_200_P1_201901260955_MGA94_55',\n",
       "       'SUCKLINGS_RD_203_P1_201901261039_MGA94_55',\n",
       "       'SUCKLINGS_JIM_TRACK__CREAM_CAN_HILL_205_P1_201901261050_MGA94_55',\n",
       "       'ABERFELDY_WEST_214_P1_201901261750_MGA94_55',\n",
       "       'CREAM_JIM_JORDAN_217_P1_201901262218_MGA94_55',\n",
       "       'SUCKLINGS_RD_KNAPPING_TRACK_226_P1_201901271405_MGA94_55',\n",
       "       'JORDAN_231_P1_201901271500_MGA94_55',\n",
       "       'JORDAN_233_P1_201901271511_MGA94_55',\n",
       "       'JORDAN_234_P1_201901271901_MGA94_55',\n",
       "       'JORDAN_264_P1_201901301524_MGA94_55',\n",
       "       'MCCALLISTER79_LA_TROBE_97_266_P1_201901301552_MGA94_55',\n",
       "       'LA_TROBE_97_MCCALLISTER_79_268_P1_201901301611_MGA94_55',\n",
       "       'MCCALLISTER_79_LA_TROBE_97_269_P1_201901301624_MGA94_55',\n",
       "       'WALHALLA_295_P1_201902011156_MGA94_55',\n",
       "       'JORDAN_310_P1_201902012046_MGA94_55',\n",
       "       'WALHALLA_339_P1_201902030520_MGA94_55',\n",
       "       'WALHALLA_346_P1_201902031122_MGA94_55',\n",
       "       'WALHALLA_352_P1_201902031612_MGA94_55',\n",
       "       'WALHALLA_354_P1_201902031637_MGA94_55',\n",
       "       'WALHALLA_362_P1_201902040015_MGA94_55',\n",
       "       'WALHALLA_363_P1_201902040024_MGA94_55',\n",
       "       'WALHALLA_368_P1_201902040621_MGA94_55',\n",
       "       'WALHALLA_373_P1_201902040748_MGA94_55',\n",
       "       'WALHALLA_378_P1_201902041304_MGA94_55',\n",
       "       'WALHALLA_379_P1_201902041319_MGA94_55',\n",
       "       'WALHALLA_380_P1_201902061347_MGA94_55',\n",
       "       'WALHALLA_381_P1_201902061356_MGA94_55',\n",
       "       'WALHALLA_397_P1_201902251311_MGA94_55',\n",
       "       'WALHALLA_398_P1_201902251323_MGA94_55',\n",
       "       'JORDAN_399_P1_201902251330_MGA94_55',\n",
       "       'JORDAN_400_P1_201902251339_MGA94_55',\n",
       "       'WALHALLA_401_P1_201902251342_MGA94_55',\n",
       "       'WALHALLA_402_P1_201902251413_MGA94_55',\n",
       "       'WALHALLA_413_P1_201902261957_MGA94_55',\n",
       "       'WALHALLA_414_P1_201902262006_MGA94_55',\n",
       "       'GIPPSLAND_TRACK1_447_P1_201903011212_MGA94_55',\n",
       "       'MACALISTER_612_P1_201903051406_MGA94_55',\n",
       "       'MACALISTER_613_P1_201903051418_MGA94_55',\n",
       "       'MACALISTER_695_P1_201903091542_MGA94_55',\n",
       "       'MACALISTER_696_P1_201903091545_MGA94_55',\n",
       "       'MACALISTER_697_P1_201903091555_MGA94_55',\n",
       "       'MACALISTER_698_P1_201903091600_MGA94_55',\n",
       "       'MACALISTER_699_P1_201903091610_MGA94_55',\n",
       "       'MACALISTER_700_P1_201903091613_MGA94_55',\n",
       "       'YARRA51_620_P1_201903051812_MGA94_55',\n",
       "       'YARRA51_622_P1_201903051841_MGA94_55',\n",
       "       'MACALISTER85_624_P1_201903051907_MGA94_55',\n",
       "       'YARRA51_633_P1_201903061644_MGA94_55',\n",
       "       'MACALISTER85_684_P1_201903080536_MGA94_55',\n",
       "       'MACALISTER85_723_P1_201903100101_MGA94_55',\n",
       "       'MACALISTER87_719_P1_201903100033_MGA94_55',\n",
       "       'MACALISTER89_678_P1_201903080454_MGA94_55',\n",
       "       'MACALISTER89_693_P1_201903091518_MGA94_55',\n",
       "       'MACALISTER89_716_P1_201903100003_MGA94_55',\n",
       "       'MACALISTER89_763_P1_201903131205_MGA94_55',\n",
       "       'MACALISTER89_773_P1_201903141329_MGA94_55',\n",
       "       'MACALISTER89_782_P1_201903141444_MGA94_55',\n",
       "       'MACALISTER89_786_P1_201903151302_MGA94_55',\n",
       "       'MACALISTER89_801_P1_201903161430_MGA94_55',\n",
       "       'MACALISTER91_615_P1_201903051438_MGA94_55',\n",
       "       'MACALISTER91_616_P1_201903051446_MGA94_55',\n",
       "       'MACALISTER91_617_P1_201903051456_MGA94_55',\n",
       "       'MACALISTER91_618_P1_201903051503_MGA94_55',\n",
       "       'MACALISTER91_621_P1_201903051827_MGA94_55',\n",
       "       'YARRA51_704_P1_201903091659_MGA94_55',\n",
       "       'MACALISTER91_681_P1_201903080517_MGA94_55',\n",
       "       'MACALISTER91_682_P1_201903080526_MGA94_55',\n",
       "       'MACALISTER91_685_P1_201903080539_MGA94_55',\n",
       "       'MACALISTER91_752_P1_201903111601_MGA94_55',\n",
       "       'MACALISTER91_755_P1_201903111619_MGA94_55',\n",
       "       'MACALISTER91_760_P1_201903111709_MGA94_55',\n",
       "       'YARRA51_726_P1_201903100129_MGA94_55',\n",
       "       'MACALISTER91_761_P1_201903111720_MGA94_55',\n",
       "       'MACALISTER91_762_P1_201903111730_MGA94_55',\n",
       "       'MACALISTER91_766_P1_201903131239_MGA94_55',\n",
       "       'MACALISTER91_767_P1_201903131252_MGA94_55',\n",
       "       'MACALISTER91_770_P1_201903131314_MGA94_55',\n",
       "       'MACALISTER91_783_P1_201903141643_MGA94_55',\n",
       "       'MACALISTER91_789_P1_201903151330_MGA94_55',\n",
       "       'MACALISTER91_790_P1_201903151340_MGA94_55',\n",
       "       'MACALISTER91_793_P1_201903151358_MGA94_55',\n",
       "       'MACALISTER91_804_P1_201903161503_MGA94_55',\n",
       "       'MACALISTER91_805_P1_201903161517_MGA94_55',\n",
       "       'MACALISTER91_808_P1_201903161539_MGA94_55',\n",
       "       'MACALISTER91_99_649_P1_201903070453_MGA94_55',\n",
       "       'MACALISTER97_680_P1_201903080512_MGA94_55',\n",
       "       'MACALISTER97_720_P1_201903100042_MGA94_55',\n",
       "       'MACALISTER97_753_P1_201903111605_MGA94_55',\n",
       "       'MACALISTER97_765_P1_201903131230_MGA94_55',\n",
       "       'MACALISTER97_768_P1_201903131255_MGA94_55',\n",
       "       'YARRA51_794_P1_201903151412_MGA94_55',\n",
       "       'YARRA54_795_P1_201903151422_MGA94_55',\n",
       "       'MACALISTER97_769_P1_201903131306_MGA94_55',\n",
       "       'MACALISTER97_774_P1_201903141339_MGA94_55',\n",
       "       'MACALISTER97_777_P1_201903141358_MGA94_55',\n",
       "       'MACALISTER97_778_P1_201903141405_MGA94_55',\n",
       "       'MACALISTER97_788_P1_201903151324_MGA94_55',\n",
       "       'MACALISTER97_791_P1_201903151343_MGA94_55',\n",
       "       'MACALISTER97_792_P1_201903151352_MGA94_55',\n",
       "       'MACALISTER97_803_P1_201903161455_MGA94_55',\n",
       "       'YARRA51_809_P1_201903161558_MGA94_55',\n",
       "       'MACALISTER97_806_P1_201903161522_MGA94_55',\n",
       "       'MACALISTER97_807_P1_201903161532_MGA94_55',\n",
       "       'MACALISTER99_623_P1_201903051858_MGA94_55',\n",
       "       'MACALISTER99_646_P1_201903070440_MGA94_55',\n",
       "       'MACALISTER99_683_P1_201903080529_MGA94_55'], dtype=object)"
      ]
     },
     "execution_count": 5,
     "metadata": {},
     "output_type": "execute_result"
    }
   ],
   "source": [
    "train.label.unique()"
   ]
  },
  {
   "cell_type": "markdown",
   "metadata": {},
   "source": [
    "## Exemple"
   ]
  },
  {
   "cell_type": "code",
   "execution_count": 6,
   "metadata": {
    "scrolled": true
   },
   "outputs": [
    {
     "data": {
      "application/vnd.jupyter.widget-view+json": {
       "model_id": "2260a1bb8f75439cb934745b2a6a5436",
       "version_major": 2,
       "version_minor": 0
      },
      "text/plain": [
       "VBox(children=(HBox(children=(Label(value=''), Label(value='')), layout=Layout(justify_content='space-between'…"
      ]
     },
     "metadata": {},
     "output_type": "display_data"
    },
    {
     "data": {
      "text/html": [
       "<div><svg style=\"position: absolute; width: 0; height: 0; overflow: hidden\">\n",
       "<defs>\n",
       "<symbol id=\"icon-database\" viewBox=\"0 0 32 32\">\n",
       "<path d=\"M16 0c-8.837 0-16 2.239-16 5v4c0 2.761 7.163 5 16 5s16-2.239 16-5v-4c0-2.761-7.163-5-16-5z\"></path>\n",
       "<path d=\"M16 17c-8.837 0-16-2.239-16-5v6c0 2.761 7.163 5 16 5s16-2.239 16-5v-6c0 2.761-7.163 5-16 5z\"></path>\n",
       "<path d=\"M16 26c-8.837 0-16-2.239-16-5v6c0 2.761 7.163 5 16 5s16-2.239 16-5v-6c0 2.761-7.163 5-16 5z\"></path>\n",
       "</symbol>\n",
       "<symbol id=\"icon-file-text2\" viewBox=\"0 0 32 32\">\n",
       "<path d=\"M28.681 7.159c-0.694-0.947-1.662-2.053-2.724-3.116s-2.169-2.030-3.116-2.724c-1.612-1.182-2.393-1.319-2.841-1.319h-15.5c-1.378 0-2.5 1.121-2.5 2.5v27c0 1.378 1.122 2.5 2.5 2.5h23c1.378 0 2.5-1.122 2.5-2.5v-19.5c0-0.448-0.137-1.23-1.319-2.841zM24.543 5.457c0.959 0.959 1.712 1.825 2.268 2.543h-4.811v-4.811c0.718 0.556 1.584 1.309 2.543 2.268zM28 29.5c0 0.271-0.229 0.5-0.5 0.5h-23c-0.271 0-0.5-0.229-0.5-0.5v-27c0-0.271 0.229-0.5 0.5-0.5 0 0 15.499-0 15.5 0v7c0 0.552 0.448 1 1 1h7v19.5z\"></path>\n",
       "<path d=\"M23 26h-14c-0.552 0-1-0.448-1-1s0.448-1 1-1h14c0.552 0 1 0.448 1 1s-0.448 1-1 1z\"></path>\n",
       "<path d=\"M23 22h-14c-0.552 0-1-0.448-1-1s0.448-1 1-1h14c0.552 0 1 0.448 1 1s-0.448 1-1 1z\"></path>\n",
       "<path d=\"M23 18h-14c-0.552 0-1-0.448-1-1s0.448-1 1-1h14c0.552 0 1 0.448 1 1s-0.448 1-1 1z\"></path>\n",
       "</symbol>\n",
       "</defs>\n",
       "</svg>\n",
       "<style>/* CSS stylesheet for displaying xarray objects in jupyterlab.\n",
       " *\n",
       " */\n",
       "\n",
       ":root {\n",
       "  --xr-font-color0: var(--jp-content-font-color0, rgba(0, 0, 0, 1));\n",
       "  --xr-font-color2: var(--jp-content-font-color2, rgba(0, 0, 0, 0.54));\n",
       "  --xr-font-color3: var(--jp-content-font-color3, rgba(0, 0, 0, 0.38));\n",
       "  --xr-border-color: var(--jp-border-color2, #e0e0e0);\n",
       "  --xr-disabled-color: var(--jp-layout-color3, #bdbdbd);\n",
       "  --xr-background-color: var(--jp-layout-color0, white);\n",
       "  --xr-background-color-row-even: var(--jp-layout-color1, white);\n",
       "  --xr-background-color-row-odd: var(--jp-layout-color2, #eeeeee);\n",
       "}\n",
       "\n",
       "html[theme=dark],\n",
       "body.vscode-dark {\n",
       "  --xr-font-color0: rgba(255, 255, 255, 1);\n",
       "  --xr-font-color2: rgba(255, 255, 255, 0.54);\n",
       "  --xr-font-color3: rgba(255, 255, 255, 0.38);\n",
       "  --xr-border-color: #1F1F1F;\n",
       "  --xr-disabled-color: #515151;\n",
       "  --xr-background-color: #111111;\n",
       "  --xr-background-color-row-even: #111111;\n",
       "  --xr-background-color-row-odd: #313131;\n",
       "}\n",
       "\n",
       ".xr-wrap {\n",
       "  display: block;\n",
       "  min-width: 300px;\n",
       "  max-width: 700px;\n",
       "}\n",
       "\n",
       ".xr-text-repr-fallback {\n",
       "  /* fallback to plain text repr when CSS is not injected (untrusted notebook) */\n",
       "  display: none;\n",
       "}\n",
       "\n",
       ".xr-header {\n",
       "  padding-top: 6px;\n",
       "  padding-bottom: 6px;\n",
       "  margin-bottom: 4px;\n",
       "  border-bottom: solid 1px var(--xr-border-color);\n",
       "}\n",
       "\n",
       ".xr-header > div,\n",
       ".xr-header > ul {\n",
       "  display: inline;\n",
       "  margin-top: 0;\n",
       "  margin-bottom: 0;\n",
       "}\n",
       "\n",
       ".xr-obj-type,\n",
       ".xr-array-name {\n",
       "  margin-left: 2px;\n",
       "  margin-right: 10px;\n",
       "}\n",
       "\n",
       ".xr-obj-type {\n",
       "  color: var(--xr-font-color2);\n",
       "}\n",
       "\n",
       ".xr-sections {\n",
       "  padding-left: 0 !important;\n",
       "  display: grid;\n",
       "  grid-template-columns: 150px auto auto 1fr 20px 20px;\n",
       "}\n",
       "\n",
       ".xr-section-item {\n",
       "  display: contents;\n",
       "}\n",
       "\n",
       ".xr-section-item input {\n",
       "  display: none;\n",
       "}\n",
       "\n",
       ".xr-section-item input + label {\n",
       "  color: var(--xr-disabled-color);\n",
       "}\n",
       "\n",
       ".xr-section-item input:enabled + label {\n",
       "  cursor: pointer;\n",
       "  color: var(--xr-font-color2);\n",
       "}\n",
       "\n",
       ".xr-section-item input:enabled + label:hover {\n",
       "  color: var(--xr-font-color0);\n",
       "}\n",
       "\n",
       ".xr-section-summary {\n",
       "  grid-column: 1;\n",
       "  color: var(--xr-font-color2);\n",
       "  font-weight: 500;\n",
       "}\n",
       "\n",
       ".xr-section-summary > span {\n",
       "  display: inline-block;\n",
       "  padding-left: 0.5em;\n",
       "}\n",
       "\n",
       ".xr-section-summary-in:disabled + label {\n",
       "  color: var(--xr-font-color2);\n",
       "}\n",
       "\n",
       ".xr-section-summary-in + label:before {\n",
       "  display: inline-block;\n",
       "  content: '►';\n",
       "  font-size: 11px;\n",
       "  width: 15px;\n",
       "  text-align: center;\n",
       "}\n",
       "\n",
       ".xr-section-summary-in:disabled + label:before {\n",
       "  color: var(--xr-disabled-color);\n",
       "}\n",
       "\n",
       ".xr-section-summary-in:checked + label:before {\n",
       "  content: '▼';\n",
       "}\n",
       "\n",
       ".xr-section-summary-in:checked + label > span {\n",
       "  display: none;\n",
       "}\n",
       "\n",
       ".xr-section-summary,\n",
       ".xr-section-inline-details {\n",
       "  padding-top: 4px;\n",
       "  padding-bottom: 4px;\n",
       "}\n",
       "\n",
       ".xr-section-inline-details {\n",
       "  grid-column: 2 / -1;\n",
       "}\n",
       "\n",
       ".xr-section-details {\n",
       "  display: none;\n",
       "  grid-column: 1 / -1;\n",
       "  margin-bottom: 5px;\n",
       "}\n",
       "\n",
       ".xr-section-summary-in:checked ~ .xr-section-details {\n",
       "  display: contents;\n",
       "}\n",
       "\n",
       ".xr-array-wrap {\n",
       "  grid-column: 1 / -1;\n",
       "  display: grid;\n",
       "  grid-template-columns: 20px auto;\n",
       "}\n",
       "\n",
       ".xr-array-wrap > label {\n",
       "  grid-column: 1;\n",
       "  vertical-align: top;\n",
       "}\n",
       "\n",
       ".xr-preview {\n",
       "  color: var(--xr-font-color3);\n",
       "}\n",
       "\n",
       ".xr-array-preview,\n",
       ".xr-array-data {\n",
       "  padding: 0 5px !important;\n",
       "  grid-column: 2;\n",
       "}\n",
       "\n",
       ".xr-array-data,\n",
       ".xr-array-in:checked ~ .xr-array-preview {\n",
       "  display: none;\n",
       "}\n",
       "\n",
       ".xr-array-in:checked ~ .xr-array-data,\n",
       ".xr-array-preview {\n",
       "  display: inline-block;\n",
       "}\n",
       "\n",
       ".xr-dim-list {\n",
       "  display: inline-block !important;\n",
       "  list-style: none;\n",
       "  padding: 0 !important;\n",
       "  margin: 0;\n",
       "}\n",
       "\n",
       ".xr-dim-list li {\n",
       "  display: inline-block;\n",
       "  padding: 0;\n",
       "  margin: 0;\n",
       "}\n",
       "\n",
       ".xr-dim-list:before {\n",
       "  content: '(';\n",
       "}\n",
       "\n",
       ".xr-dim-list:after {\n",
       "  content: ')';\n",
       "}\n",
       "\n",
       ".xr-dim-list li:not(:last-child):after {\n",
       "  content: ',';\n",
       "  padding-right: 5px;\n",
       "}\n",
       "\n",
       ".xr-has-index {\n",
       "  font-weight: bold;\n",
       "}\n",
       "\n",
       ".xr-var-list,\n",
       ".xr-var-item {\n",
       "  display: contents;\n",
       "}\n",
       "\n",
       ".xr-var-item > div,\n",
       ".xr-var-item label,\n",
       ".xr-var-item > .xr-var-name span {\n",
       "  background-color: var(--xr-background-color-row-even);\n",
       "  margin-bottom: 0;\n",
       "}\n",
       "\n",
       ".xr-var-item > .xr-var-name:hover span {\n",
       "  padding-right: 5px;\n",
       "}\n",
       "\n",
       ".xr-var-list > li:nth-child(odd) > div,\n",
       ".xr-var-list > li:nth-child(odd) > label,\n",
       ".xr-var-list > li:nth-child(odd) > .xr-var-name span {\n",
       "  background-color: var(--xr-background-color-row-odd);\n",
       "}\n",
       "\n",
       ".xr-var-name {\n",
       "  grid-column: 1;\n",
       "}\n",
       "\n",
       ".xr-var-dims {\n",
       "  grid-column: 2;\n",
       "}\n",
       "\n",
       ".xr-var-dtype {\n",
       "  grid-column: 3;\n",
       "  text-align: right;\n",
       "  color: var(--xr-font-color2);\n",
       "}\n",
       "\n",
       ".xr-var-preview {\n",
       "  grid-column: 4;\n",
       "}\n",
       "\n",
       ".xr-var-name,\n",
       ".xr-var-dims,\n",
       ".xr-var-dtype,\n",
       ".xr-preview,\n",
       ".xr-attrs dt {\n",
       "  white-space: nowrap;\n",
       "  overflow: hidden;\n",
       "  text-overflow: ellipsis;\n",
       "  padding-right: 10px;\n",
       "}\n",
       "\n",
       ".xr-var-name:hover,\n",
       ".xr-var-dims:hover,\n",
       ".xr-var-dtype:hover,\n",
       ".xr-attrs dt:hover {\n",
       "  overflow: visible;\n",
       "  width: auto;\n",
       "  z-index: 1;\n",
       "}\n",
       "\n",
       ".xr-var-attrs,\n",
       ".xr-var-data {\n",
       "  display: none;\n",
       "  background-color: var(--xr-background-color) !important;\n",
       "  padding-bottom: 5px !important;\n",
       "}\n",
       "\n",
       ".xr-var-attrs-in:checked ~ .xr-var-attrs,\n",
       ".xr-var-data-in:checked ~ .xr-var-data {\n",
       "  display: block;\n",
       "}\n",
       "\n",
       ".xr-var-data > table {\n",
       "  float: right;\n",
       "}\n",
       "\n",
       ".xr-var-name span,\n",
       ".xr-var-data,\n",
       ".xr-attrs {\n",
       "  padding-left: 25px !important;\n",
       "}\n",
       "\n",
       ".xr-attrs,\n",
       ".xr-var-attrs,\n",
       ".xr-var-data {\n",
       "  grid-column: 1 / -1;\n",
       "}\n",
       "\n",
       "dl.xr-attrs {\n",
       "  padding: 0;\n",
       "  margin: 0;\n",
       "  display: grid;\n",
       "  grid-template-columns: 125px auto;\n",
       "}\n",
       "\n",
       ".xr-attrs dt, dd {\n",
       "  padding: 0;\n",
       "  margin: 0;\n",
       "  float: left;\n",
       "  padding-right: 10px;\n",
       "  width: auto;\n",
       "}\n",
       "\n",
       ".xr-attrs dt {\n",
       "  font-weight: normal;\n",
       "  grid-column: 1;\n",
       "}\n",
       "\n",
       ".xr-attrs dt:hover span {\n",
       "  display: inline-block;\n",
       "  background: var(--xr-background-color);\n",
       "  padding-right: 10px;\n",
       "}\n",
       "\n",
       ".xr-attrs dd {\n",
       "  grid-column: 2;\n",
       "  white-space: pre-wrap;\n",
       "  word-break: break-all;\n",
       "}\n",
       "\n",
       ".xr-icon-database,\n",
       ".xr-icon-file-text2 {\n",
       "  display: inline-block;\n",
       "  vertical-align: middle;\n",
       "  width: 1em;\n",
       "  height: 1.5em !important;\n",
       "  stroke-width: 0;\n",
       "  stroke: currentColor;\n",
       "  fill: currentColor;\n",
       "}\n",
       "</style><pre class='xr-text-repr-fallback'>&lt;xarray.Dataset&gt;\n",
       "Dimensions:      (time: 1, x: 3270, y: 5105)\n",
       "Coordinates:\n",
       "  * time         (time) datetime64[ns] 2019-03-16T04:39:00\n",
       "  * y            (y) float64 5.863e+06 5.863e+06 ... 5.812e+06 5.812e+06\n",
       "  * x            (x) float64 4.589e+05 4.589e+05 ... 4.916e+05 4.916e+05\n",
       "    spatial_ref  int32 28355\n",
       "Data variables:\n",
       "    linescan     (time, y, x) uint8 0 0 0 0 0 0 0 0 0 0 ... 0 0 0 0 0 0 0 0 0 0\n",
       "Attributes:\n",
       "    crs:           epsg:28355\n",
       "    grid_mapping:  spatial_ref</pre><div class='xr-wrap' hidden><div class='xr-header'><div class='xr-obj-type'>xarray.Dataset</div></div><ul class='xr-sections'><li class='xr-section-item'><input id='section-26c293ce-4521-4e33-8033-78bb14ec7982' class='xr-section-summary-in' type='checkbox' disabled ><label for='section-26c293ce-4521-4e33-8033-78bb14ec7982' class='xr-section-summary'  title='Expand/collapse section'>Dimensions:</label><div class='xr-section-inline-details'><ul class='xr-dim-list'><li><span class='xr-has-index'>time</span>: 1</li><li><span class='xr-has-index'>x</span>: 3270</li><li><span class='xr-has-index'>y</span>: 5105</li></ul></div><div class='xr-section-details'></div></li><li class='xr-section-item'><input id='section-69a3f775-0e48-4474-9184-a3e4fdd8b079' class='xr-section-summary-in' type='checkbox'  checked><label for='section-69a3f775-0e48-4474-9184-a3e4fdd8b079' class='xr-section-summary' >Coordinates: <span>(4)</span></label><div class='xr-section-inline-details'></div><div class='xr-section-details'><ul class='xr-var-list'><li class='xr-var-item'><div class='xr-var-name'><span class='xr-has-index'>time</span></div><div class='xr-var-dims'>(time)</div><div class='xr-var-dtype'>datetime64[ns]</div><div class='xr-var-preview xr-preview'>2019-03-16T04:39:00</div><input id='attrs-bb1646e9-17d4-4eda-821f-4242a3911a60' class='xr-var-attrs-in' type='checkbox' ><label for='attrs-bb1646e9-17d4-4eda-821f-4242a3911a60' title='Show/Hide attributes'><svg class='icon xr-icon-file-text2'><use xlink:href='#icon-file-text2'></use></svg></label><input id='data-3eb59b65-3345-424c-a581-090ba5ac936f' class='xr-var-data-in' type='checkbox'><label for='data-3eb59b65-3345-424c-a581-090ba5ac936f' title='Show/Hide data repr'><svg class='icon xr-icon-database'><use xlink:href='#icon-database'></use></svg></label><div class='xr-var-attrs'><dl class='xr-attrs'><dt><span>units :</span></dt><dd>seconds since 1970-01-01 00:00:00</dd></dl></div><div class='xr-var-data'><pre>array([&#x27;2019-03-16T04:39:00.000000000&#x27;], dtype=&#x27;datetime64[ns]&#x27;)</pre></div></li><li class='xr-var-item'><div class='xr-var-name'><span class='xr-has-index'>y</span></div><div class='xr-var-dims'>(y)</div><div class='xr-var-dtype'>float64</div><div class='xr-var-preview xr-preview'>5.863e+06 5.863e+06 ... 5.812e+06</div><input id='attrs-39f1906e-094c-4e3b-ac47-d87f4201d22d' class='xr-var-attrs-in' type='checkbox' ><label for='attrs-39f1906e-094c-4e3b-ac47-d87f4201d22d' title='Show/Hide attributes'><svg class='icon xr-icon-file-text2'><use xlink:href='#icon-file-text2'></use></svg></label><input id='data-02c6811f-e431-490d-bcd3-6ecd35ce4af5' class='xr-var-data-in' type='checkbox'><label for='data-02c6811f-e431-490d-bcd3-6ecd35ce4af5' title='Show/Hide data repr'><svg class='icon xr-icon-database'><use xlink:href='#icon-database'></use></svg></label><div class='xr-var-attrs'><dl class='xr-attrs'><dt><span>units :</span></dt><dd>metre</dd><dt><span>resolution :</span></dt><dd>-10.0</dd><dt><span>crs :</span></dt><dd>epsg:28355</dd></dl></div><div class='xr-var-data'><pre>array([5863345., 5863335., 5863325., ..., 5812325., 5812315., 5812305.])</pre></div></li><li class='xr-var-item'><div class='xr-var-name'><span class='xr-has-index'>x</span></div><div class='xr-var-dims'>(x)</div><div class='xr-var-dtype'>float64</div><div class='xr-var-preview xr-preview'>4.589e+05 4.589e+05 ... 4.916e+05</div><input id='attrs-5d3fbc8e-ba07-48fc-a5a5-a083991b47a0' class='xr-var-attrs-in' type='checkbox' ><label for='attrs-5d3fbc8e-ba07-48fc-a5a5-a083991b47a0' title='Show/Hide attributes'><svg class='icon xr-icon-file-text2'><use xlink:href='#icon-file-text2'></use></svg></label><input id='data-3af7864c-7f1e-4932-bb81-0b9ab13b77a5' class='xr-var-data-in' type='checkbox'><label for='data-3af7864c-7f1e-4932-bb81-0b9ab13b77a5' title='Show/Hide data repr'><svg class='icon xr-icon-database'><use xlink:href='#icon-database'></use></svg></label><div class='xr-var-attrs'><dl class='xr-attrs'><dt><span>units :</span></dt><dd>metre</dd><dt><span>resolution :</span></dt><dd>10.0</dd><dt><span>crs :</span></dt><dd>epsg:28355</dd></dl></div><div class='xr-var-data'><pre>array([458875., 458885., 458895., ..., 491545., 491555., 491565.])</pre></div></li><li class='xr-var-item'><div class='xr-var-name'><span>spatial_ref</span></div><div class='xr-var-dims'>()</div><div class='xr-var-dtype'>int32</div><div class='xr-var-preview xr-preview'>28355</div><input id='attrs-35a213d8-b6e9-4194-9aca-65e835d364af' class='xr-var-attrs-in' type='checkbox' ><label for='attrs-35a213d8-b6e9-4194-9aca-65e835d364af' title='Show/Hide attributes'><svg class='icon xr-icon-file-text2'><use xlink:href='#icon-file-text2'></use></svg></label><input id='data-cdd408eb-c144-4060-9e32-458ec99b7a13' class='xr-var-data-in' type='checkbox'><label for='data-cdd408eb-c144-4060-9e32-458ec99b7a13' title='Show/Hide data repr'><svg class='icon xr-icon-database'><use xlink:href='#icon-database'></use></svg></label><div class='xr-var-attrs'><dl class='xr-attrs'><dt><span>spatial_ref :</span></dt><dd>PROJCS[&quot;GDA94 / MGA zone 55&quot;,GEOGCS[&quot;GDA94&quot;,DATUM[&quot;Geocentric_Datum_of_Australia_1994&quot;,SPHEROID[&quot;GRS 1980&quot;,6378137,298.257222101,AUTHORITY[&quot;EPSG&quot;,&quot;7019&quot;]],AUTHORITY[&quot;EPSG&quot;,&quot;6283&quot;]],PRIMEM[&quot;Greenwich&quot;,0,AUTHORITY[&quot;EPSG&quot;,&quot;8901&quot;]],UNIT[&quot;degree&quot;,0.0174532925199433,AUTHORITY[&quot;EPSG&quot;,&quot;9122&quot;]],AUTHORITY[&quot;EPSG&quot;,&quot;4283&quot;]],PROJECTION[&quot;Transverse_Mercator&quot;],PARAMETER[&quot;latitude_of_origin&quot;,0],PARAMETER[&quot;central_meridian&quot;,147],PARAMETER[&quot;scale_factor&quot;,0.9996],PARAMETER[&quot;false_easting&quot;,500000],PARAMETER[&quot;false_northing&quot;,10000000],UNIT[&quot;metre&quot;,1,AUTHORITY[&quot;EPSG&quot;,&quot;9001&quot;]],AXIS[&quot;Easting&quot;,EAST],AXIS[&quot;Northing&quot;,NORTH],AUTHORITY[&quot;EPSG&quot;,&quot;28355&quot;]]</dd><dt><span>grid_mapping_name :</span></dt><dd>transverse_mercator</dd></dl></div><div class='xr-var-data'><pre>array(28355, dtype=int32)</pre></div></li></ul></div></li><li class='xr-section-item'><input id='section-675924fe-d065-4b2b-aec0-9d594fbb60c1' class='xr-section-summary-in' type='checkbox'  checked><label for='section-675924fe-d065-4b2b-aec0-9d594fbb60c1' class='xr-section-summary' >Data variables: <span>(1)</span></label><div class='xr-section-inline-details'></div><div class='xr-section-details'><ul class='xr-var-list'><li class='xr-var-item'><div class='xr-var-name'><span>linescan</span></div><div class='xr-var-dims'>(time, y, x)</div><div class='xr-var-dtype'>uint8</div><div class='xr-var-preview xr-preview'>0 0 0 0 0 0 0 0 ... 0 0 0 0 0 0 0 0</div><input id='attrs-986b1f1a-d57f-41e6-845a-1642df9c66e6' class='xr-var-attrs-in' type='checkbox' ><label for='attrs-986b1f1a-d57f-41e6-845a-1642df9c66e6' title='Show/Hide attributes'><svg class='icon xr-icon-file-text2'><use xlink:href='#icon-file-text2'></use></svg></label><input id='data-1092a301-42f9-4ba9-b35e-391884e2291e' class='xr-var-data-in' type='checkbox'><label for='data-1092a301-42f9-4ba9-b35e-391884e2291e' title='Show/Hide data repr'><svg class='icon xr-icon-database'><use xlink:href='#icon-database'></use></svg></label><div class='xr-var-attrs'><dl class='xr-attrs'><dt><span>units :</span></dt><dd>1</dd><dt><span>nodata :</span></dt><dd>0.0</dd><dt><span>crs :</span></dt><dd>epsg:28355</dd><dt><span>grid_mapping :</span></dt><dd>spatial_ref</dd></dl></div><div class='xr-var-data'><pre>array([[[0, 0, 0, ..., 0, 0, 0],\n",
       "        [0, 0, 0, ..., 0, 0, 0],\n",
       "        [0, 0, 0, ..., 0, 0, 0],\n",
       "        ...,\n",
       "        [0, 0, 0, ..., 0, 0, 0],\n",
       "        [0, 0, 0, ..., 0, 0, 0],\n",
       "        [0, 0, 0, ..., 0, 0, 0]]], dtype=uint8)</pre></div></li></ul></div></li><li class='xr-section-item'><input id='section-69da72fc-69e6-4bd3-9da5-32426752ed8d' class='xr-section-summary-in' type='checkbox'  checked><label for='section-69da72fc-69e6-4bd3-9da5-32426752ed8d' class='xr-section-summary' >Attributes: <span>(2)</span></label><div class='xr-section-inline-details'></div><div class='xr-section-details'><dl class='xr-attrs'><dt><span>crs :</span></dt><dd>epsg:28355</dd><dt><span>grid_mapping :</span></dt><dd>spatial_ref</dd></dl></div></li></ul></div></div>"
      ],
      "text/plain": [
       "<xarray.Dataset>\n",
       "Dimensions:      (time: 1, x: 3270, y: 5105)\n",
       "Coordinates:\n",
       "  * time         (time) datetime64[ns] 2019-03-16T04:39:00\n",
       "  * y            (y) float64 5.863e+06 5.863e+06 ... 5.812e+06 5.812e+06\n",
       "  * x            (x) float64 4.589e+05 4.589e+05 ... 4.916e+05 4.916e+05\n",
       "    spatial_ref  int32 28355\n",
       "Data variables:\n",
       "    linescan     (time, y, x) uint8 0 0 0 0 0 0 0 0 0 0 ... 0 0 0 0 0 0 0 0 0 0\n",
       "Attributes:\n",
       "    crs:           epsg:28355\n",
       "    grid_mapping:  spatial_ref"
      ]
     },
     "execution_count": 6,
     "metadata": {},
     "output_type": "execute_result"
    }
   ],
   "source": [
    "sample = 132\n",
    "ds = dc.load(product='linescan', id=linescan_datasets[sample].id, output_crs='epsg:28355', resolution=(-10,10), progress_cbk=with_ui_cbk())\n",
    "ds"
   ]
  },
  {
   "cell_type": "markdown",
   "metadata": {},
   "source": [
    "The 'challenge1_train.csv' file lists the names of all the training linescans that are available."
   ]
  },
  {
   "cell_type": "markdown",
   "metadata": {},
   "source": [
    "### Import Target Variable: Fire Map Polygons\n",
    "\n",
    "Let's load and display the dataset."
   ]
  },
  {
   "cell_type": "code",
   "execution_count": 7,
   "metadata": {
    "scrolled": false
   },
   "outputs": [
    {
     "name": "stdout",
     "output_type": "stream",
     "text": [
      "Number of objects in geodataframe: 976\n"
     ]
    }
   ],
   "source": [
    "vector_file = 'resources/fire_boundaries.shp'\n",
    "gdf = gpd.read_file(vector_file)\n",
    "print('Number of objects in geodataframe: ' + str(len(gdf)))"
   ]
  },
  {
   "cell_type": "code",
   "execution_count": 8,
   "metadata": {},
   "outputs": [
    {
     "data": {
      "text/html": [
       "<div>\n",
       "<style scoped>\n",
       "    .dataframe tbody tr th:only-of-type {\n",
       "        vertical-align: middle;\n",
       "    }\n",
       "\n",
       "    .dataframe tbody tr th {\n",
       "        vertical-align: top;\n",
       "    }\n",
       "\n",
       "    .dataframe thead th {\n",
       "        text-align: right;\n",
       "    }\n",
       "</style>\n",
       "<table border=\"1\" class=\"dataframe\">\n",
       "  <thead>\n",
       "    <tr style=\"text-align: right;\">\n",
       "      <th></th>\n",
       "      <th>Source</th>\n",
       "      <th>SourceName</th>\n",
       "      <th>Type</th>\n",
       "      <th>dtString</th>\n",
       "      <th>Comments</th>\n",
       "      <th>dtUTC</th>\n",
       "      <th>dtLocal</th>\n",
       "      <th>ID</th>\n",
       "      <th>event</th>\n",
       "      <th>geometry</th>\n",
       "    </tr>\n",
       "  </thead>\n",
       "  <tbody>\n",
       "    <tr>\n",
       "      <th>0</th>\n",
       "      <td>Linescan</td>\n",
       "      <td>aberfeldy west 200 p1_201901260955_mga94_55.jpg</td>\n",
       "      <td>Initial ignition</td>\n",
       "      <td>2019/01/26 09:55:00.000</td>\n",
       "      <td>originally Latrobe 87 - Jericho - Jim Track</td>\n",
       "      <td>2019-01-25 22:55:00</td>\n",
       "      <td>2019-01-26 09:55:00</td>\n",
       "      <td>0</td>\n",
       "      <td>Latrobe86</td>\n",
       "      <td>POLYGON ((431455.605 5829806.837, 431460.570 5...</td>\n",
       "    </tr>\n",
       "    <tr>\n",
       "      <th>1</th>\n",
       "      <td>Linescan</td>\n",
       "      <td>aberfeldy west 200 p1_201901260955_mga94_55.jpg</td>\n",
       "      <td>Initial ignition</td>\n",
       "      <td>2019/01/26 09:55:00.000</td>\n",
       "      <td>originally Latrobe 86 - Jericho - Thomson - Jo...</td>\n",
       "      <td>2019-01-25 22:55:00</td>\n",
       "      <td>2019-01-26 09:55:00</td>\n",
       "      <td>1</td>\n",
       "      <td>Latrobe86</td>\n",
       "      <td>POLYGON ((433874.449 5827986.798, 433882.377 5...</td>\n",
       "    </tr>\n",
       "    <tr>\n",
       "      <th>2</th>\n",
       "      <td>Linescan</td>\n",
       "      <td>aberfeldy west 200 p1_201901260955_mga94_55.jpg</td>\n",
       "      <td>Initial ignition</td>\n",
       "      <td>2019/01/26 09:55:00.000</td>\n",
       "      <td>originally Latrobe 85 - Jericho - Cream Can Hill</td>\n",
       "      <td>2019-01-25 22:55:00</td>\n",
       "      <td>2019-01-26 09:55:00</td>\n",
       "      <td>2</td>\n",
       "      <td>Latrobe86</td>\n",
       "      <td>POLYGON ((430459.914 5831285.492, 430457.641 5...</td>\n",
       "    </tr>\n",
       "    <tr>\n",
       "      <th>3</th>\n",
       "      <td>Linescan</td>\n",
       "      <td>aberfeldy west 214 p1_201901261750_mga94_55.jpg</td>\n",
       "      <td>Spot</td>\n",
       "      <td>2019/01/26 17:50:00.000</td>\n",
       "      <td>originally Latrobe 87 - Jericho - Jim Track</td>\n",
       "      <td>2019-01-26 06:50:00</td>\n",
       "      <td>2019-01-26 17:50:00</td>\n",
       "      <td>3</td>\n",
       "      <td>Latrobe86</td>\n",
       "      <td>POLYGON ((431937.376 5829943.371, 431941.068 5...</td>\n",
       "    </tr>\n",
       "    <tr>\n",
       "      <th>4</th>\n",
       "      <td>Linescan</td>\n",
       "      <td>aberfeldy west 214 p1_201901261750_mga94_55.jpg</td>\n",
       "      <td>Main run</td>\n",
       "      <td>2019/01/26 17:50:00.000</td>\n",
       "      <td>originally Latrobe 87 - Jericho - Jim Track</td>\n",
       "      <td>2019-01-26 06:50:00</td>\n",
       "      <td>2019-01-26 17:50:00</td>\n",
       "      <td>4</td>\n",
       "      <td>Latrobe86</td>\n",
       "      <td>POLYGON ((431541.651 5829804.025, 431547.139 5...</td>\n",
       "    </tr>\n",
       "    <tr>\n",
       "      <th>...</th>\n",
       "      <td>...</td>\n",
       "      <td>...</td>\n",
       "      <td>...</td>\n",
       "      <td>...</td>\n",
       "      <td>...</td>\n",
       "      <td>...</td>\n",
       "      <td>...</td>\n",
       "      <td>...</td>\n",
       "      <td>...</td>\n",
       "      <td>...</td>\n",
       "    </tr>\n",
       "    <tr>\n",
       "      <th>971</th>\n",
       "      <td>Linescan</td>\n",
       "      <td>yarra51 809 p1_201903161558_mga94_55.jpg</td>\n",
       "      <td>Backburn</td>\n",
       "      <td>2019/03/16 15:58:00.000</td>\n",
       "      <td>None</td>\n",
       "      <td>2019-03-16 04:58:00</td>\n",
       "      <td>2019-03-16 15:58:00</td>\n",
       "      <td>2254</td>\n",
       "      <td>Yarra51</td>\n",
       "      <td>POLYGON ((400246.624 5838321.274, 400254.524 5...</td>\n",
       "    </tr>\n",
       "    <tr>\n",
       "      <th>972</th>\n",
       "      <td>Linescan</td>\n",
       "      <td>yarra51 809 p1_201903161558_mga94_55.jpg</td>\n",
       "      <td>Spot</td>\n",
       "      <td>2019/03/16 15:58:00.000</td>\n",
       "      <td>None</td>\n",
       "      <td>2019-03-16 04:58:00</td>\n",
       "      <td>2019-03-16 15:58:00</td>\n",
       "      <td>2255</td>\n",
       "      <td>Yarra51</td>\n",
       "      <td>POLYGON ((400442.749 5839677.640, 400409.760 5...</td>\n",
       "    </tr>\n",
       "    <tr>\n",
       "      <th>973</th>\n",
       "      <td>Linescan</td>\n",
       "      <td>yarra51 809 p1_201903161558_mga94_55.jpg</td>\n",
       "      <td>Backburn</td>\n",
       "      <td>2019/03/16 15:58:00.000</td>\n",
       "      <td>None</td>\n",
       "      <td>2019-03-16 04:58:00</td>\n",
       "      <td>2019-03-16 15:58:00</td>\n",
       "      <td>2256</td>\n",
       "      <td>Yarra51</td>\n",
       "      <td>POLYGON ((400104.351 5838696.227, 400104.396 5...</td>\n",
       "    </tr>\n",
       "    <tr>\n",
       "      <th>974</th>\n",
       "      <td>Linescan</td>\n",
       "      <td>yarra51 809 p1_201903161558_mga94_55.jpg</td>\n",
       "      <td>Main run</td>\n",
       "      <td>2019/03/16 15:58:00.000</td>\n",
       "      <td>Final scan withfire activity</td>\n",
       "      <td>2019-03-16 04:58:00</td>\n",
       "      <td>2019-03-16 15:58:00</td>\n",
       "      <td>2257</td>\n",
       "      <td>Yarra51</td>\n",
       "      <td>POLYGON ((404476.742 5834053.367, 404473.745 5...</td>\n",
       "    </tr>\n",
       "    <tr>\n",
       "      <th>975</th>\n",
       "      <td>Linescan</td>\n",
       "      <td>yarra51 809 p1_201903161558_mga94_55.jpg</td>\n",
       "      <td>Backburn</td>\n",
       "      <td>2019/03/16 15:58:00.000</td>\n",
       "      <td>This shows up in May18 Sentinel CIR - not sure...</td>\n",
       "      <td>2019-03-16 04:58:00</td>\n",
       "      <td>2019-03-16 15:58:00</td>\n",
       "      <td>2258</td>\n",
       "      <td>Yarra51</td>\n",
       "      <td>MULTIPOLYGON (((400107.205 5838673.428, 400120...</td>\n",
       "    </tr>\n",
       "  </tbody>\n",
       "</table>\n",
       "<p>976 rows × 10 columns</p>\n",
       "</div>"
      ],
      "text/plain": [
       "       Source                                       SourceName  \\\n",
       "0    Linescan  aberfeldy west 200 p1_201901260955_mga94_55.jpg   \n",
       "1    Linescan  aberfeldy west 200 p1_201901260955_mga94_55.jpg   \n",
       "2    Linescan  aberfeldy west 200 p1_201901260955_mga94_55.jpg   \n",
       "3    Linescan  aberfeldy west 214 p1_201901261750_mga94_55.jpg   \n",
       "4    Linescan  aberfeldy west 214 p1_201901261750_mga94_55.jpg   \n",
       "..        ...                                              ...   \n",
       "971  Linescan         yarra51 809 p1_201903161558_mga94_55.jpg   \n",
       "972  Linescan         yarra51 809 p1_201903161558_mga94_55.jpg   \n",
       "973  Linescan         yarra51 809 p1_201903161558_mga94_55.jpg   \n",
       "974  Linescan         yarra51 809 p1_201903161558_mga94_55.jpg   \n",
       "975  Linescan         yarra51 809 p1_201903161558_mga94_55.jpg   \n",
       "\n",
       "                 Type                 dtString  \\\n",
       "0    Initial ignition  2019/01/26 09:55:00.000   \n",
       "1    Initial ignition  2019/01/26 09:55:00.000   \n",
       "2    Initial ignition  2019/01/26 09:55:00.000   \n",
       "3                Spot  2019/01/26 17:50:00.000   \n",
       "4            Main run  2019/01/26 17:50:00.000   \n",
       "..                ...                      ...   \n",
       "971          Backburn  2019/03/16 15:58:00.000   \n",
       "972              Spot  2019/03/16 15:58:00.000   \n",
       "973          Backburn  2019/03/16 15:58:00.000   \n",
       "974          Main run  2019/03/16 15:58:00.000   \n",
       "975          Backburn  2019/03/16 15:58:00.000   \n",
       "\n",
       "                                              Comments                dtUTC  \\\n",
       "0          originally Latrobe 87 - Jericho - Jim Track  2019-01-25 22:55:00   \n",
       "1    originally Latrobe 86 - Jericho - Thomson - Jo...  2019-01-25 22:55:00   \n",
       "2     originally Latrobe 85 - Jericho - Cream Can Hill  2019-01-25 22:55:00   \n",
       "3          originally Latrobe 87 - Jericho - Jim Track  2019-01-26 06:50:00   \n",
       "4          originally Latrobe 87 - Jericho - Jim Track  2019-01-26 06:50:00   \n",
       "..                                                 ...                  ...   \n",
       "971                                               None  2019-03-16 04:58:00   \n",
       "972                                               None  2019-03-16 04:58:00   \n",
       "973                                               None  2019-03-16 04:58:00   \n",
       "974                       Final scan withfire activity  2019-03-16 04:58:00   \n",
       "975  This shows up in May18 Sentinel CIR - not sure...  2019-03-16 04:58:00   \n",
       "\n",
       "                 dtLocal    ID      event  \\\n",
       "0    2019-01-26 09:55:00     0  Latrobe86   \n",
       "1    2019-01-26 09:55:00     1  Latrobe86   \n",
       "2    2019-01-26 09:55:00     2  Latrobe86   \n",
       "3    2019-01-26 17:50:00     3  Latrobe86   \n",
       "4    2019-01-26 17:50:00     4  Latrobe86   \n",
       "..                   ...   ...        ...   \n",
       "971  2019-03-16 15:58:00  2254    Yarra51   \n",
       "972  2019-03-16 15:58:00  2255    Yarra51   \n",
       "973  2019-03-16 15:58:00  2256    Yarra51   \n",
       "974  2019-03-16 15:58:00  2257    Yarra51   \n",
       "975  2019-03-16 15:58:00  2258    Yarra51   \n",
       "\n",
       "                                              geometry  \n",
       "0    POLYGON ((431455.605 5829806.837, 431460.570 5...  \n",
       "1    POLYGON ((433874.449 5827986.798, 433882.377 5...  \n",
       "2    POLYGON ((430459.914 5831285.492, 430457.641 5...  \n",
       "3    POLYGON ((431937.376 5829943.371, 431941.068 5...  \n",
       "4    POLYGON ((431541.651 5829804.025, 431547.139 5...  \n",
       "..                                                 ...  \n",
       "971  POLYGON ((400246.624 5838321.274, 400254.524 5...  \n",
       "972  POLYGON ((400442.749 5839677.640, 400409.760 5...  \n",
       "973  POLYGON ((400104.351 5838696.227, 400104.396 5...  \n",
       "974  POLYGON ((404476.742 5834053.367, 404473.745 5...  \n",
       "975  MULTIPOLYGON (((400107.205 5838673.428, 400120...  \n",
       "\n",
       "[976 rows x 10 columns]"
      ]
     },
     "execution_count": 8,
     "metadata": {},
     "output_type": "execute_result"
    }
   ],
   "source": [
    "gdf"
   ]
  },
  {
   "cell_type": "markdown",
   "metadata": {},
   "source": [
    "## Exploring the Polygon Dataset\n",
    "While the polygons provided were created from the linescan images, it is not always easy to see exactly which linescan was the source for a given polygon.\n",
    "\n",
    "### Direct matches\n",
    "Looking at the linescan dataset metadata, in many cases the linescan label field can be used to match the linescan to a set of polygons using the SourceName field, with some slight changes."
   ]
  },
  {
   "cell_type": "code",
   "execution_count": 9,
   "metadata": {
    "scrolled": true
   },
   "outputs": [
    {
     "name": "stdout",
     "output_type": "stream",
     "text": [
      "MACALISTER91_808_P1_201903161539_MGA94_55\n"
     ]
    }
   ],
   "source": [
    "print(linescan_datasets[sample].metadata_doc['label'])"
   ]
  },
  {
   "cell_type": "markdown",
   "metadata": {},
   "source": [
    "### Composite Polygons\n",
    "\n",
    "Another subset of the polygon dataset that will require more careful consideration are polygons derived from multiple linescans. These polygons usually represent larger fires that stretch over many linescan images and are referred to as \"composite polygons\".\n",
    "\n",
    "Identifying these polygons is a little trickier and involves searching the SourceName attribute for the word \"composite\". Some composites might not meet this condition, but will have a list of numbers representing the linescans it was derived from, so in addition to \"composite\", we will also search for commas and the ampersand symbol '&'. \n",
    "\n",
    "The query is as follows:\n"
   ]
  },
  {
   "cell_type": "code",
   "execution_count": 10,
   "metadata": {
    "scrolled": false
   },
   "outputs": [
    {
     "name": "stdout",
     "output_type": "stream",
     "text": [
      "Total composite polygons: 285\n"
     ]
    },
    {
     "name": "stderr",
     "output_type": "stream",
     "text": [
      "/env/lib/python3.6/site-packages/pandas/core/strings.py:2001: UserWarning: This pattern has match groups. To actually get the groups, use str.extract.\n",
      "  return func(self, *args, **kwargs)\n"
     ]
    },
    {
     "data": {
      "text/plain": [
       "240    Composite wallhalla 397,398 & 401 20190225 (13...\n",
       "241    Composite wallhalla 397,398 & 401 20190225 (13...\n",
       "242    Composite wallhalla 397,398 & 401 20190225 (13...\n",
       "315    macalister 681 & 682, (684 & 685 minor) compos...\n",
       "316    macalister 681 & 682, (684 & 685 minor) compos...\n",
       "Name: SourceName, dtype: object"
      ]
     },
     "execution_count": 10,
     "metadata": {},
     "output_type": "execute_result"
    }
   ],
   "source": [
    "composites = gdf[gdf.SourceName.str.upper().str.contains(\",|&|(COMPOSITE)\", na=False)]\n",
    "\n",
    "print(f\"Total composite polygons: {len(composites)}\")\n",
    "composites.SourceName.head()"
   ]
  },
  {
   "cell_type": "code",
   "execution_count": 11,
   "metadata": {
    "scrolled": true
   },
   "outputs": [
    {
     "data": {
      "image/svg+xml": [
       "<svg xmlns=\"http://www.w3.org/2000/svg\" xmlns:xlink=\"http://www.w3.org/1999/xlink\" width=\"300\" height=\"296.1421753736213\" viewBox=\"453388.17917613714 5803721.896601009 306.27249021746684 296.1421753736213\" preserveAspectRatio=\"xMinYMin meet\"><g transform=\"matrix(1,0,0,-1,0,11607739.935377393)\"><path fill-rule=\"evenodd\" fill=\"#66cc99\" stroke=\"#555555\" stroke-width=\"2.0418166014497787\" opacity=\"0.6\" d=\"M 453658.6667487729,5803930.428893661 L 453665.3753424479,5803925.941006138 L 453666.1761349377,5803919.344149028 L 453681.60442467703,5803909.088028625 L 453683.108240791,5803900.521872394 L 453676.6510520748,5803893.110355526 L 453656.26919303974,5803887.3886974165 L 453651.1341519362,5803880.005013781 L 453653.9461458789,5803872.127914137 L 453664.19759041414,5803856.471482273 L 453664.3232930624,5803850.521780819 L 453659.835407068,5803843.813188076 L 453653.9973428403,5803838.398804208 L 453644.17887662374,5803833.561741264 L 453613.8389831947,5803829.613842724 L 453601.3481938535,5803826.043053366 L 453596.80444114155,5803821.978749235 L 453595.58006630547,5803817.323258641 L 453603.0754881783,5803806.899540882 L 453603.2570600088,5803798.305550404 L 453592.35379489895,5803782.202070371 L 453571.47852591943,5803768.5334725985 L 453543.8527618126,5803761.336023421 L 453521.7810556299,5803741.689787486 L 453507.3909071964,5803734.110560098 L 453497.48863885656,5803733.240026573 L 453489.49980229576,5803735.716707126 L 453467.9401303963,5803754.441197044 L 453463.68028093444,5803768.240061334 L 453472.2929918162,5803798.8454374075 L 453469.5089279488,5803805.400390848 L 453463.47542264627,5803809.241119651 L 453456.2034756431,5803809.087477091 L 453441.7714215265,5803803.491513975 L 453426.5665048316,5803803.170261611 L 453408.6055573732,5803808.081819333 L 453400.47704291577,5803817.169324598 L 453399.52260170074,5803831.038129248 L 453409.21535898256,5803841.825002431 L 453423.6894175679,5803845.437701315 L 453443.5916308792,5803842.551309936 L 453446.8132402173,5803846.587582264 L 453445.30951824214,5803855.153740804 L 453441.2173769603,5803861.019640527 L 453423.1307215579,5803871.880904011 L 453417.6604635808,5803880.363257781 L 453415.2861069221,5803898.831688458 L 453424.1641040572,5803916.8764431225 L 453428.73589388176,5803919.618507318 L 453437.99101115274,5803919.814049961 L 453475.5004358132,5803897.458329019 L 453480.16989426146,5803895.57293212 L 453492.73052327987,5803895.838312483 L 453505.826470013,5803902.067361644 L 453514.8860452168,5803911.518018797 L 453535.05839865503,5803927.1559236795 L 453545.38425028557,5803939.278904546 L 453548.53602559766,5803946.620589286 L 453547.67936123745,5803955.861838039 L 453526.51543541654,5803987.160744965 L 453526.3338616031,5803995.754840209 L 453533.4102719961,5804005.163598107 L 453543.2985769103,5804006.695350819 L 453554.6626686043,5804000.982987314 L 453569.69531704055,5803978.152369761 L 453579.7512279316,5803971.751049999 L 453596.99518394266,5803969.469902672 L 453607.02316021005,5803964.390727893 L 453625.5195251668,5803965.442928389 L 453641.45530243125,5803962.472723211 L 453649.54191123793,5803955.368378645 L 453654.6025449797,5803934.972650518 L 453658.6667487729,5803930.428893661 z\" /></g></svg>"
      ],
      "text/plain": [
       "<shapely.geometry.polygon.Polygon at 0x7f63c0167a58>"
      ]
     },
     "execution_count": 11,
     "metadata": {},
     "output_type": "execute_result"
    }
   ],
   "source": [
    "composites.iloc[0].geometry\n"
   ]
  },
  {
   "cell_type": "code",
   "execution_count": 12,
   "metadata": {
    "scrolled": true
   },
   "outputs": [
    {
     "data": {
      "text/plain": [
       "array(['Composite wallhalla 397,398 & 401 20190225 (1311 to 1342hrs)',\n",
       "       'macalister 681 & 682, (684 & 685 minor) composite 0517-0539hrs',\n",
       "       'composite macalister97 803, 806 &  807 1455-1532hrs',\n",
       "       'macalister91 751, 752, 755, 760, 761 & 762 composite 1549-1730hrs',\n",
       "       'macalister91 766,767 & 770 composite 1239-1314hrs',\n",
       "       'macalister91 775, 776, 779 & 783 composite 1345-1643hrs',\n",
       "       'macalister91 789, 790 & 793 composite 1330-1358hrs',\n",
       "       'macalister91 804, 805 & 808 composite 1503-1539hrs',\n",
       "       'macalister91 646,648 & 649 composite - 0440hrs to 0453hrs',\n",
       "       'macalister 695,698 & 699 composite 1542 - 1610hrs',\n",
       "       'macalister 696,697,700 - 1545-1613hrs',\n",
       "       'Composite wallhalla 380 & 381 20190206 (1347 & 1356hrs)'],\n",
       "      dtype=object)"
      ]
     },
     "execution_count": 12,
     "metadata": {},
     "output_type": "execute_result"
    }
   ],
   "source": [
    "dict_keys = composites.SourceName.unique()\n",
    "dict_keys"
   ]
  },
  {
   "cell_type": "code",
   "execution_count": 13,
   "metadata": {},
   "outputs": [],
   "source": [
    "fires = ['wallhalla','macalister91','macalister97','macalister']\n",
    "dictt = {}\n",
    "for k in dict_keys:\n",
    "    dictt[k] = []\n",
    "    splitt = k.replace(',',' ').replace('(',' ').split(' ')\n",
    "    for f in fires:\n",
    "        try:\n",
    "            ff = splitt[splitt.index(f)]\n",
    "            break\n",
    "        except: pass\n",
    "    for w in splitt:\n",
    "        if len(w)==3:\n",
    "            try:\n",
    "                int(w)\n",
    "                dictt[k].append(ff+'_' + w)               \n",
    "            except: pass"
   ]
  },
  {
   "cell_type": "code",
   "execution_count": 14,
   "metadata": {
    "scrolled": false
   },
   "outputs": [
    {
     "name": "stdout",
     "output_type": "stream",
     "text": [
      "Composite wallhalla 397,398 & 401 20190225 (1311 to 1342hrs)\n"
     ]
    },
    {
     "data": {
      "text/plain": [
       "Source                                                 Linescan\n",
       "SourceName    Composite wallhalla 397,398 & 401 20190225 (13...\n",
       "Type                                                       Spot\n",
       "dtString                                2019/02/25 13:40:00.000\n",
       "Comments                                                   None\n",
       "dtUTC                                       2019-02-25 02:40:00\n",
       "dtLocal                                     2019-02-25 13:40:00\n",
       "ID                                                         2051\n",
       "event                                                  Walhalla\n",
       "geometry      POLYGON ((453658.6667487729 5803930.428893661,...\n",
       "Name: 240, dtype: object"
      ]
     },
     "execution_count": 14,
     "metadata": {},
     "output_type": "execute_result"
    }
   ],
   "source": [
    "print(composites.SourceName.iloc[0])\n",
    "composites.iloc[0]"
   ]
  },
  {
   "cell_type": "code",
   "execution_count": 15,
   "metadata": {},
   "outputs": [],
   "source": [
    "compo_cleaned = pd.DataFrame(columns = composites.columns)\n",
    "\n",
    "for l in range(len(composites)):\n",
    "    for cell in dictt[composites.iloc[l].SourceName]:\n",
    "        compo_cleaned = compo_cleaned.append(composites.iloc[l])\n",
    "        compo_cleaned.SourceName.iloc[-1] = cell"
   ]
  },
  {
   "cell_type": "code",
   "execution_count": 16,
   "metadata": {},
   "outputs": [],
   "source": [
    "# clean the name\n",
    "\n",
    "compo_cleaned.SourceName = compo_cleaned.apply(lambda row: row.SourceName +'_P1_' + row.dtString.replace(' ','').replace(':','').replace('/','')[:12] + '_mga94_55', axis =1)"
   ]
  },
  {
   "cell_type": "code",
   "execution_count": 17,
   "metadata": {},
   "outputs": [],
   "source": [
    "mask= pd.Series(gdf.SourceName.str.upper().str.contains(\",|&|(COMPOSITE)\", na=False), index = gdf.index)\n"
   ]
  },
  {
   "cell_type": "code",
   "execution_count": 18,
   "metadata": {},
   "outputs": [
    {
     "data": {
      "text/plain": [
       "((285, 10), (976, 10), (691, 10))"
      ]
     },
     "execution_count": 18,
     "metadata": {},
     "output_type": "execute_result"
    }
   ],
   "source": [
    "gdf[mask].shape, gdf.shape, gdf[pd.Series(1 - mask, dtype= bool)].shape"
   ]
  },
  {
   "cell_type": "code",
   "execution_count": 19,
   "metadata": {},
   "outputs": [
    {
     "data": {
      "text/html": [
       "<div>\n",
       "<style scoped>\n",
       "    .dataframe tbody tr th:only-of-type {\n",
       "        vertical-align: middle;\n",
       "    }\n",
       "\n",
       "    .dataframe tbody tr th {\n",
       "        vertical-align: top;\n",
       "    }\n",
       "\n",
       "    .dataframe thead th {\n",
       "        text-align: right;\n",
       "    }\n",
       "</style>\n",
       "<table border=\"1\" class=\"dataframe\">\n",
       "  <thead>\n",
       "    <tr style=\"text-align: right;\">\n",
       "      <th></th>\n",
       "      <th>Source</th>\n",
       "      <th>SourceName</th>\n",
       "      <th>Type</th>\n",
       "      <th>dtString</th>\n",
       "      <th>Comments</th>\n",
       "      <th>dtUTC</th>\n",
       "      <th>dtLocal</th>\n",
       "      <th>ID</th>\n",
       "      <th>event</th>\n",
       "      <th>geometry</th>\n",
       "    </tr>\n",
       "  </thead>\n",
       "  <tbody>\n",
       "    <tr>\n",
       "      <th>0</th>\n",
       "      <td>Linescan</td>\n",
       "      <td>aberfeldy west 200 p1_201901260955_mga94_55.jpg</td>\n",
       "      <td>Initial ignition</td>\n",
       "      <td>2019/01/26 09:55:00.000</td>\n",
       "      <td>originally Latrobe 87 - Jericho - Jim Track</td>\n",
       "      <td>2019-01-25 22:55:00</td>\n",
       "      <td>2019-01-26 09:55:00</td>\n",
       "      <td>0</td>\n",
       "      <td>Latrobe86</td>\n",
       "      <td>POLYGON ((431455.605 5829806.837, 431460.570 5...</td>\n",
       "    </tr>\n",
       "    <tr>\n",
       "      <th>1</th>\n",
       "      <td>Linescan</td>\n",
       "      <td>aberfeldy west 200 p1_201901260955_mga94_55.jpg</td>\n",
       "      <td>Initial ignition</td>\n",
       "      <td>2019/01/26 09:55:00.000</td>\n",
       "      <td>originally Latrobe 86 - Jericho - Thomson - Jo...</td>\n",
       "      <td>2019-01-25 22:55:00</td>\n",
       "      <td>2019-01-26 09:55:00</td>\n",
       "      <td>1</td>\n",
       "      <td>Latrobe86</td>\n",
       "      <td>POLYGON ((433874.449 5827986.798, 433882.377 5...</td>\n",
       "    </tr>\n",
       "    <tr>\n",
       "      <th>2</th>\n",
       "      <td>Linescan</td>\n",
       "      <td>aberfeldy west 200 p1_201901260955_mga94_55.jpg</td>\n",
       "      <td>Initial ignition</td>\n",
       "      <td>2019/01/26 09:55:00.000</td>\n",
       "      <td>originally Latrobe 85 - Jericho - Cream Can Hill</td>\n",
       "      <td>2019-01-25 22:55:00</td>\n",
       "      <td>2019-01-26 09:55:00</td>\n",
       "      <td>2</td>\n",
       "      <td>Latrobe86</td>\n",
       "      <td>POLYGON ((430459.914 5831285.492, 430457.641 5...</td>\n",
       "    </tr>\n",
       "    <tr>\n",
       "      <th>3</th>\n",
       "      <td>Linescan</td>\n",
       "      <td>aberfeldy west 214 p1_201901261750_mga94_55.jpg</td>\n",
       "      <td>Spot</td>\n",
       "      <td>2019/01/26 17:50:00.000</td>\n",
       "      <td>originally Latrobe 87 - Jericho - Jim Track</td>\n",
       "      <td>2019-01-26 06:50:00</td>\n",
       "      <td>2019-01-26 17:50:00</td>\n",
       "      <td>3</td>\n",
       "      <td>Latrobe86</td>\n",
       "      <td>POLYGON ((431937.376 5829943.371, 431941.068 5...</td>\n",
       "    </tr>\n",
       "    <tr>\n",
       "      <th>4</th>\n",
       "      <td>Linescan</td>\n",
       "      <td>aberfeldy west 214 p1_201901261750_mga94_55.jpg</td>\n",
       "      <td>Main run</td>\n",
       "      <td>2019/01/26 17:50:00.000</td>\n",
       "      <td>originally Latrobe 87 - Jericho - Jim Track</td>\n",
       "      <td>2019-01-26 06:50:00</td>\n",
       "      <td>2019-01-26 17:50:00</td>\n",
       "      <td>4</td>\n",
       "      <td>Latrobe86</td>\n",
       "      <td>POLYGON ((431541.651 5829804.025, 431547.139 5...</td>\n",
       "    </tr>\n",
       "    <tr>\n",
       "      <th>...</th>\n",
       "      <td>...</td>\n",
       "      <td>...</td>\n",
       "      <td>...</td>\n",
       "      <td>...</td>\n",
       "      <td>...</td>\n",
       "      <td>...</td>\n",
       "      <td>...</td>\n",
       "      <td>...</td>\n",
       "      <td>...</td>\n",
       "      <td>...</td>\n",
       "    </tr>\n",
       "    <tr>\n",
       "      <th>829</th>\n",
       "      <td>Linescan</td>\n",
       "      <td>wallhalla_398_P1_201902251340_mga94_55</td>\n",
       "      <td>Spot</td>\n",
       "      <td>2019/02/25 13:40:00.000</td>\n",
       "      <td>None</td>\n",
       "      <td>2019-02-25 02:40:00</td>\n",
       "      <td>2019-02-25 13:40:00</td>\n",
       "      <td>2082</td>\n",
       "      <td>Walhalla</td>\n",
       "      <td>POLYGON ((449872.713 5798234.831, 449882.400 5...</td>\n",
       "    </tr>\n",
       "    <tr>\n",
       "      <th>829</th>\n",
       "      <td>Linescan</td>\n",
       "      <td>wallhalla_401_P1_201902251340_mga94_55</td>\n",
       "      <td>Spot</td>\n",
       "      <td>2019/02/25 13:40:00.000</td>\n",
       "      <td>None</td>\n",
       "      <td>2019-02-25 02:40:00</td>\n",
       "      <td>2019-02-25 13:40:00</td>\n",
       "      <td>2082</td>\n",
       "      <td>Walhalla</td>\n",
       "      <td>POLYGON ((449872.713 5798234.831, 449882.400 5...</td>\n",
       "    </tr>\n",
       "    <tr>\n",
       "      <th>830</th>\n",
       "      <td>Linescan</td>\n",
       "      <td>wallhalla_397_P1_201902251340_mga94_55</td>\n",
       "      <td>Spot</td>\n",
       "      <td>2019/02/25 13:40:00.000</td>\n",
       "      <td>None</td>\n",
       "      <td>2019-02-25 02:40:00</td>\n",
       "      <td>2019-02-25 13:40:00</td>\n",
       "      <td>2083</td>\n",
       "      <td>Walhalla</td>\n",
       "      <td>POLYGON ((449963.353 5796499.473, 449990.358 5...</td>\n",
       "    </tr>\n",
       "    <tr>\n",
       "      <th>830</th>\n",
       "      <td>Linescan</td>\n",
       "      <td>wallhalla_398_P1_201902251340_mga94_55</td>\n",
       "      <td>Spot</td>\n",
       "      <td>2019/02/25 13:40:00.000</td>\n",
       "      <td>None</td>\n",
       "      <td>2019-02-25 02:40:00</td>\n",
       "      <td>2019-02-25 13:40:00</td>\n",
       "      <td>2083</td>\n",
       "      <td>Walhalla</td>\n",
       "      <td>POLYGON ((449963.353 5796499.473, 449990.358 5...</td>\n",
       "    </tr>\n",
       "    <tr>\n",
       "      <th>830</th>\n",
       "      <td>Linescan</td>\n",
       "      <td>wallhalla_401_P1_201902251340_mga94_55</td>\n",
       "      <td>Spot</td>\n",
       "      <td>2019/02/25 13:40:00.000</td>\n",
       "      <td>None</td>\n",
       "      <td>2019-02-25 02:40:00</td>\n",
       "      <td>2019-02-25 13:40:00</td>\n",
       "      <td>2083</td>\n",
       "      <td>Walhalla</td>\n",
       "      <td>POLYGON ((449963.353 5796499.473, 449990.358 5...</td>\n",
       "    </tr>\n",
       "  </tbody>\n",
       "</table>\n",
       "<p>1540 rows × 10 columns</p>\n",
       "</div>"
      ],
      "text/plain": [
       "       Source                                       SourceName  \\\n",
       "0    Linescan  aberfeldy west 200 p1_201901260955_mga94_55.jpg   \n",
       "1    Linescan  aberfeldy west 200 p1_201901260955_mga94_55.jpg   \n",
       "2    Linescan  aberfeldy west 200 p1_201901260955_mga94_55.jpg   \n",
       "3    Linescan  aberfeldy west 214 p1_201901261750_mga94_55.jpg   \n",
       "4    Linescan  aberfeldy west 214 p1_201901261750_mga94_55.jpg   \n",
       "..        ...                                              ...   \n",
       "829  Linescan           wallhalla_398_P1_201902251340_mga94_55   \n",
       "829  Linescan           wallhalla_401_P1_201902251340_mga94_55   \n",
       "830  Linescan           wallhalla_397_P1_201902251340_mga94_55   \n",
       "830  Linescan           wallhalla_398_P1_201902251340_mga94_55   \n",
       "830  Linescan           wallhalla_401_P1_201902251340_mga94_55   \n",
       "\n",
       "                 Type                 dtString  \\\n",
       "0    Initial ignition  2019/01/26 09:55:00.000   \n",
       "1    Initial ignition  2019/01/26 09:55:00.000   \n",
       "2    Initial ignition  2019/01/26 09:55:00.000   \n",
       "3                Spot  2019/01/26 17:50:00.000   \n",
       "4            Main run  2019/01/26 17:50:00.000   \n",
       "..                ...                      ...   \n",
       "829              Spot  2019/02/25 13:40:00.000   \n",
       "829              Spot  2019/02/25 13:40:00.000   \n",
       "830              Spot  2019/02/25 13:40:00.000   \n",
       "830              Spot  2019/02/25 13:40:00.000   \n",
       "830              Spot  2019/02/25 13:40:00.000   \n",
       "\n",
       "                                              Comments                dtUTC  \\\n",
       "0          originally Latrobe 87 - Jericho - Jim Track  2019-01-25 22:55:00   \n",
       "1    originally Latrobe 86 - Jericho - Thomson - Jo...  2019-01-25 22:55:00   \n",
       "2     originally Latrobe 85 - Jericho - Cream Can Hill  2019-01-25 22:55:00   \n",
       "3          originally Latrobe 87 - Jericho - Jim Track  2019-01-26 06:50:00   \n",
       "4          originally Latrobe 87 - Jericho - Jim Track  2019-01-26 06:50:00   \n",
       "..                                                 ...                  ...   \n",
       "829                                               None  2019-02-25 02:40:00   \n",
       "829                                               None  2019-02-25 02:40:00   \n",
       "830                                               None  2019-02-25 02:40:00   \n",
       "830                                               None  2019-02-25 02:40:00   \n",
       "830                                               None  2019-02-25 02:40:00   \n",
       "\n",
       "                 dtLocal    ID      event  \\\n",
       "0    2019-01-26 09:55:00     0  Latrobe86   \n",
       "1    2019-01-26 09:55:00     1  Latrobe86   \n",
       "2    2019-01-26 09:55:00     2  Latrobe86   \n",
       "3    2019-01-26 17:50:00     3  Latrobe86   \n",
       "4    2019-01-26 17:50:00     4  Latrobe86   \n",
       "..                   ...   ...        ...   \n",
       "829  2019-02-25 13:40:00  2082   Walhalla   \n",
       "829  2019-02-25 13:40:00  2082   Walhalla   \n",
       "830  2019-02-25 13:40:00  2083   Walhalla   \n",
       "830  2019-02-25 13:40:00  2083   Walhalla   \n",
       "830  2019-02-25 13:40:00  2083   Walhalla   \n",
       "\n",
       "                                              geometry  \n",
       "0    POLYGON ((431455.605 5829806.837, 431460.570 5...  \n",
       "1    POLYGON ((433874.449 5827986.798, 433882.377 5...  \n",
       "2    POLYGON ((430459.914 5831285.492, 430457.641 5...  \n",
       "3    POLYGON ((431937.376 5829943.371, 431941.068 5...  \n",
       "4    POLYGON ((431541.651 5829804.025, 431547.139 5...  \n",
       "..                                                 ...  \n",
       "829  POLYGON ((449872.713 5798234.831, 449882.400 5...  \n",
       "829  POLYGON ((449872.713 5798234.831, 449882.400 5...  \n",
       "830  POLYGON ((449963.353 5796499.473, 449990.358 5...  \n",
       "830  POLYGON ((449963.353 5796499.473, 449990.358 5...  \n",
       "830  POLYGON ((449963.353 5796499.473, 449990.358 5...  \n",
       "\n",
       "[1540 rows x 10 columns]"
      ]
     },
     "execution_count": 19,
     "metadata": {},
     "output_type": "execute_result"
    }
   ],
   "source": [
    "new_gdf = pd.concat([gdf[pd.Series(1 - mask, dtype= bool)],compo_cleaned ])\n",
    "new_gdf"
   ]
  },
  {
   "cell_type": "markdown",
   "metadata": {},
   "source": [
    "### Cleaning Up Polygon Dataset"
   ]
  },
  {
   "cell_type": "markdown",
   "metadata": {},
   "source": [
    "Let's work on the string formatting first. The format is slightly different between the linescan label field and the polygon SourceName field. The white spaces have been replaced with underscores and the '.jpg' at the end of the filename has been removed, and its in upper case. To clean up the SourceName field in the polygon dataset, first we create a function and test it, and then apply it across the dataset. We also need to make sure we keep in mind that composite SourceNames don't have a '.jpg' at the end, and so should be treated slightly differently.\n",
    "\n",
    "In the same step, we'll also format the datetime fields in the same step as they're currently formatted as strings. \n"
   ]
  },
  {
   "cell_type": "code",
   "execution_count": 20,
   "metadata": {
    "scrolled": false
   },
   "outputs": [
    {
     "name": "stdout",
     "output_type": "stream",
     "text": [
      "ABERFELDY_WEST_200_P1_201901260955_MGA94_55\n",
      "COMPOSITE_WALLHALLA_397,398_&_401_20190225_(1311_TO_1342HRS)\n"
     ]
    }
   ],
   "source": [
    "def clean_name(name):\n",
    "    if name is None:\n",
    "        return ''\n",
    "    if name.upper()[-4::] == \".JPG\":\n",
    "        return name.upper()[:-4].replace(' ','_')\n",
    "    return  name.upper().replace(' ','_')\n",
    "\n",
    "test_string = 'aberfeldy west 200 p1_201901260955_mga94_55.jpg'\n",
    "test_string_composite = 'Composite wallhalla 397,398 & 401 20190225 (1311 to 1342hrs)'\n",
    "print(clean_name(test_string))\n",
    "print(clean_name(test_string_composite))"
   ]
  },
  {
   "cell_type": "code",
   "execution_count": 21,
   "metadata": {
    "scrolled": true
   },
   "outputs": [
    {
     "data": {
      "text/html": [
       "<div>\n",
       "<style scoped>\n",
       "    .dataframe tbody tr th:only-of-type {\n",
       "        vertical-align: middle;\n",
       "    }\n",
       "\n",
       "    .dataframe tbody tr th {\n",
       "        vertical-align: top;\n",
       "    }\n",
       "\n",
       "    .dataframe thead th {\n",
       "        text-align: right;\n",
       "    }\n",
       "</style>\n",
       "<table border=\"1\" class=\"dataframe\">\n",
       "  <thead>\n",
       "    <tr style=\"text-align: right;\">\n",
       "      <th></th>\n",
       "      <th>0</th>\n",
       "      <th>1</th>\n",
       "      <th>2</th>\n",
       "      <th>3</th>\n",
       "      <th>4</th>\n",
       "    </tr>\n",
       "  </thead>\n",
       "  <tbody>\n",
       "    <tr>\n",
       "      <th>Source</th>\n",
       "      <td>Linescan</td>\n",
       "      <td>Linescan</td>\n",
       "      <td>Linescan</td>\n",
       "      <td>Linescan</td>\n",
       "      <td>Linescan</td>\n",
       "    </tr>\n",
       "    <tr>\n",
       "      <th>SourceName</th>\n",
       "      <td>aberfeldy west 200 p1_201901260955_mga94_55.jpg</td>\n",
       "      <td>aberfeldy west 200 p1_201901260955_mga94_55.jpg</td>\n",
       "      <td>aberfeldy west 200 p1_201901260955_mga94_55.jpg</td>\n",
       "      <td>aberfeldy west 214 p1_201901261750_mga94_55.jpg</td>\n",
       "      <td>aberfeldy west 214 p1_201901261750_mga94_55.jpg</td>\n",
       "    </tr>\n",
       "    <tr>\n",
       "      <th>Type</th>\n",
       "      <td>Initial ignition</td>\n",
       "      <td>Initial ignition</td>\n",
       "      <td>Initial ignition</td>\n",
       "      <td>Spot</td>\n",
       "      <td>Main run</td>\n",
       "    </tr>\n",
       "    <tr>\n",
       "      <th>dtString</th>\n",
       "      <td>2019/01/26 09:55:00.000</td>\n",
       "      <td>2019/01/26 09:55:00.000</td>\n",
       "      <td>2019/01/26 09:55:00.000</td>\n",
       "      <td>2019/01/26 17:50:00.000</td>\n",
       "      <td>2019/01/26 17:50:00.000</td>\n",
       "    </tr>\n",
       "    <tr>\n",
       "      <th>Comments</th>\n",
       "      <td>originally Latrobe 87 - Jericho - Jim Track</td>\n",
       "      <td>originally Latrobe 86 - Jericho - Thomson - Jo...</td>\n",
       "      <td>originally Latrobe 85 - Jericho - Cream Can Hill</td>\n",
       "      <td>originally Latrobe 87 - Jericho - Jim Track</td>\n",
       "      <td>originally Latrobe 87 - Jericho - Jim Track</td>\n",
       "    </tr>\n",
       "    <tr>\n",
       "      <th>dtUTC</th>\n",
       "      <td>2019-01-25 22:55:00</td>\n",
       "      <td>2019-01-25 22:55:00</td>\n",
       "      <td>2019-01-25 22:55:00</td>\n",
       "      <td>2019-01-26 06:50:00</td>\n",
       "      <td>2019-01-26 06:50:00</td>\n",
       "    </tr>\n",
       "    <tr>\n",
       "      <th>dtLocal</th>\n",
       "      <td>2019-01-26 09:55:00</td>\n",
       "      <td>2019-01-26 09:55:00</td>\n",
       "      <td>2019-01-26 09:55:00</td>\n",
       "      <td>2019-01-26 17:50:00</td>\n",
       "      <td>2019-01-26 17:50:00</td>\n",
       "    </tr>\n",
       "    <tr>\n",
       "      <th>ID</th>\n",
       "      <td>0</td>\n",
       "      <td>1</td>\n",
       "      <td>2</td>\n",
       "      <td>3</td>\n",
       "      <td>4</td>\n",
       "    </tr>\n",
       "    <tr>\n",
       "      <th>event</th>\n",
       "      <td>Latrobe86</td>\n",
       "      <td>Latrobe86</td>\n",
       "      <td>Latrobe86</td>\n",
       "      <td>Latrobe86</td>\n",
       "      <td>Latrobe86</td>\n",
       "    </tr>\n",
       "    <tr>\n",
       "      <th>geometry</th>\n",
       "      <td>POLYGON ((431455.6047864075 5829806.836519156,...</td>\n",
       "      <td>POLYGON ((433874.4491466696 5827986.798174933,...</td>\n",
       "      <td>POLYGON ((430459.9135101112 5831285.491971598,...</td>\n",
       "      <td>POLYGON ((431937.3755649604 5829943.370969374,...</td>\n",
       "      <td>POLYGON ((431541.6507835893 5829804.025387563,...</td>\n",
       "    </tr>\n",
       "    <tr>\n",
       "      <th>SourceNameClean</th>\n",
       "      <td>ABERFELDY_WEST_200_P1_201901260955_MGA94_55</td>\n",
       "      <td>ABERFELDY_WEST_200_P1_201901260955_MGA94_55</td>\n",
       "      <td>ABERFELDY_WEST_200_P1_201901260955_MGA94_55</td>\n",
       "      <td>ABERFELDY_WEST_214_P1_201901261750_MGA94_55</td>\n",
       "      <td>ABERFELDY_WEST_214_P1_201901261750_MGA94_55</td>\n",
       "    </tr>\n",
       "  </tbody>\n",
       "</table>\n",
       "</div>"
      ],
      "text/plain": [
       "                                                                 0  \\\n",
       "Source                                                    Linescan   \n",
       "SourceName         aberfeldy west 200 p1_201901260955_mga94_55.jpg   \n",
       "Type                                              Initial ignition   \n",
       "dtString                                   2019/01/26 09:55:00.000   \n",
       "Comments               originally Latrobe 87 - Jericho - Jim Track   \n",
       "dtUTC                                          2019-01-25 22:55:00   \n",
       "dtLocal                                        2019-01-26 09:55:00   \n",
       "ID                                                               0   \n",
       "event                                                    Latrobe86   \n",
       "geometry         POLYGON ((431455.6047864075 5829806.836519156,...   \n",
       "SourceNameClean        ABERFELDY_WEST_200_P1_201901260955_MGA94_55   \n",
       "\n",
       "                                                                 1  \\\n",
       "Source                                                    Linescan   \n",
       "SourceName         aberfeldy west 200 p1_201901260955_mga94_55.jpg   \n",
       "Type                                              Initial ignition   \n",
       "dtString                                   2019/01/26 09:55:00.000   \n",
       "Comments         originally Latrobe 86 - Jericho - Thomson - Jo...   \n",
       "dtUTC                                          2019-01-25 22:55:00   \n",
       "dtLocal                                        2019-01-26 09:55:00   \n",
       "ID                                                               1   \n",
       "event                                                    Latrobe86   \n",
       "geometry         POLYGON ((433874.4491466696 5827986.798174933,...   \n",
       "SourceNameClean        ABERFELDY_WEST_200_P1_201901260955_MGA94_55   \n",
       "\n",
       "                                                                 2  \\\n",
       "Source                                                    Linescan   \n",
       "SourceName         aberfeldy west 200 p1_201901260955_mga94_55.jpg   \n",
       "Type                                              Initial ignition   \n",
       "dtString                                   2019/01/26 09:55:00.000   \n",
       "Comments          originally Latrobe 85 - Jericho - Cream Can Hill   \n",
       "dtUTC                                          2019-01-25 22:55:00   \n",
       "dtLocal                                        2019-01-26 09:55:00   \n",
       "ID                                                               2   \n",
       "event                                                    Latrobe86   \n",
       "geometry         POLYGON ((430459.9135101112 5831285.491971598,...   \n",
       "SourceNameClean        ABERFELDY_WEST_200_P1_201901260955_MGA94_55   \n",
       "\n",
       "                                                                 3  \\\n",
       "Source                                                    Linescan   \n",
       "SourceName         aberfeldy west 214 p1_201901261750_mga94_55.jpg   \n",
       "Type                                                          Spot   \n",
       "dtString                                   2019/01/26 17:50:00.000   \n",
       "Comments               originally Latrobe 87 - Jericho - Jim Track   \n",
       "dtUTC                                          2019-01-26 06:50:00   \n",
       "dtLocal                                        2019-01-26 17:50:00   \n",
       "ID                                                               3   \n",
       "event                                                    Latrobe86   \n",
       "geometry         POLYGON ((431937.3755649604 5829943.370969374,...   \n",
       "SourceNameClean        ABERFELDY_WEST_214_P1_201901261750_MGA94_55   \n",
       "\n",
       "                                                                 4  \n",
       "Source                                                    Linescan  \n",
       "SourceName         aberfeldy west 214 p1_201901261750_mga94_55.jpg  \n",
       "Type                                                      Main run  \n",
       "dtString                                   2019/01/26 17:50:00.000  \n",
       "Comments               originally Latrobe 87 - Jericho - Jim Track  \n",
       "dtUTC                                          2019-01-26 06:50:00  \n",
       "dtLocal                                        2019-01-26 17:50:00  \n",
       "ID                                                               4  \n",
       "event                                                    Latrobe86  \n",
       "geometry         POLYGON ((431541.6507835893 5829804.025387563,...  \n",
       "SourceNameClean        ABERFELDY_WEST_214_P1_201901261750_MGA94_55  "
      ]
     },
     "execution_count": 21,
     "metadata": {},
     "output_type": "execute_result"
    }
   ],
   "source": [
    "gdf['SourceNameClean'] = gdf.apply(lambda row: clean_name(row.SourceName), axis=1)\n",
    "gdf.dtUTC = gdf.apply(lambda row: datetime.strptime(row.dtUTC, '%Y-%m-%d %H:%M:%S'), axis=1)\n",
    "gdf.dtLocal = gdf.apply(lambda row: datetime.strptime(row.dtLocal, '%Y-%m-%d %H:%M:%S'), axis=1)\n",
    "gdf.head().T"
   ]
  },
  {
   "cell_type": "code",
   "execution_count": 22,
   "metadata": {},
   "outputs": [
    {
     "data": {
      "text/html": [
       "<div>\n",
       "<style scoped>\n",
       "    .dataframe tbody tr th:only-of-type {\n",
       "        vertical-align: middle;\n",
       "    }\n",
       "\n",
       "    .dataframe tbody tr th {\n",
       "        vertical-align: top;\n",
       "    }\n",
       "\n",
       "    .dataframe thead th {\n",
       "        text-align: right;\n",
       "    }\n",
       "</style>\n",
       "<table border=\"1\" class=\"dataframe\">\n",
       "  <thead>\n",
       "    <tr style=\"text-align: right;\">\n",
       "      <th></th>\n",
       "      <th>Source</th>\n",
       "      <th>SourceName</th>\n",
       "      <th>Type</th>\n",
       "      <th>dtString</th>\n",
       "      <th>Comments</th>\n",
       "      <th>dtUTC</th>\n",
       "      <th>dtLocal</th>\n",
       "      <th>ID</th>\n",
       "      <th>event</th>\n",
       "      <th>geometry</th>\n",
       "      <th>SourceNameClean</th>\n",
       "    </tr>\n",
       "  </thead>\n",
       "  <tbody>\n",
       "    <tr>\n",
       "      <th>0</th>\n",
       "      <td>Linescan</td>\n",
       "      <td>aberfeldy west 200 p1_201901260955_mga94_55.jpg</td>\n",
       "      <td>Initial ignition</td>\n",
       "      <td>2019/01/26 09:55:00.000</td>\n",
       "      <td>originally Latrobe 87 - Jericho - Jim Track</td>\n",
       "      <td>2019-01-25 22:55:00</td>\n",
       "      <td>2019-01-26 09:55:00</td>\n",
       "      <td>0</td>\n",
       "      <td>Latrobe86</td>\n",
       "      <td>POLYGON ((431455.605 5829806.837, 431460.570 5...</td>\n",
       "      <td>ABERFELDY_WEST_200_P1_201901260955_MGA94_55</td>\n",
       "    </tr>\n",
       "    <tr>\n",
       "      <th>1</th>\n",
       "      <td>Linescan</td>\n",
       "      <td>aberfeldy west 200 p1_201901260955_mga94_55.jpg</td>\n",
       "      <td>Initial ignition</td>\n",
       "      <td>2019/01/26 09:55:00.000</td>\n",
       "      <td>originally Latrobe 86 - Jericho - Thomson - Jo...</td>\n",
       "      <td>2019-01-25 22:55:00</td>\n",
       "      <td>2019-01-26 09:55:00</td>\n",
       "      <td>1</td>\n",
       "      <td>Latrobe86</td>\n",
       "      <td>POLYGON ((433874.449 5827986.798, 433882.377 5...</td>\n",
       "      <td>ABERFELDY_WEST_200_P1_201901260955_MGA94_55</td>\n",
       "    </tr>\n",
       "    <tr>\n",
       "      <th>2</th>\n",
       "      <td>Linescan</td>\n",
       "      <td>aberfeldy west 200 p1_201901260955_mga94_55.jpg</td>\n",
       "      <td>Initial ignition</td>\n",
       "      <td>2019/01/26 09:55:00.000</td>\n",
       "      <td>originally Latrobe 85 - Jericho - Cream Can Hill</td>\n",
       "      <td>2019-01-25 22:55:00</td>\n",
       "      <td>2019-01-26 09:55:00</td>\n",
       "      <td>2</td>\n",
       "      <td>Latrobe86</td>\n",
       "      <td>POLYGON ((430459.914 5831285.492, 430457.641 5...</td>\n",
       "      <td>ABERFELDY_WEST_200_P1_201901260955_MGA94_55</td>\n",
       "    </tr>\n",
       "    <tr>\n",
       "      <th>3</th>\n",
       "      <td>Linescan</td>\n",
       "      <td>aberfeldy west 214 p1_201901261750_mga94_55.jpg</td>\n",
       "      <td>Spot</td>\n",
       "      <td>2019/01/26 17:50:00.000</td>\n",
       "      <td>originally Latrobe 87 - Jericho - Jim Track</td>\n",
       "      <td>2019-01-26 06:50:00</td>\n",
       "      <td>2019-01-26 17:50:00</td>\n",
       "      <td>3</td>\n",
       "      <td>Latrobe86</td>\n",
       "      <td>POLYGON ((431937.376 5829943.371, 431941.068 5...</td>\n",
       "      <td>ABERFELDY_WEST_214_P1_201901261750_MGA94_55</td>\n",
       "    </tr>\n",
       "    <tr>\n",
       "      <th>4</th>\n",
       "      <td>Linescan</td>\n",
       "      <td>aberfeldy west 214 p1_201901261750_mga94_55.jpg</td>\n",
       "      <td>Main run</td>\n",
       "      <td>2019/01/26 17:50:00.000</td>\n",
       "      <td>originally Latrobe 87 - Jericho - Jim Track</td>\n",
       "      <td>2019-01-26 06:50:00</td>\n",
       "      <td>2019-01-26 17:50:00</td>\n",
       "      <td>4</td>\n",
       "      <td>Latrobe86</td>\n",
       "      <td>POLYGON ((431541.651 5829804.025, 431547.139 5...</td>\n",
       "      <td>ABERFELDY_WEST_214_P1_201901261750_MGA94_55</td>\n",
       "    </tr>\n",
       "  </tbody>\n",
       "</table>\n",
       "</div>"
      ],
      "text/plain": [
       "     Source                                       SourceName  \\\n",
       "0  Linescan  aberfeldy west 200 p1_201901260955_mga94_55.jpg   \n",
       "1  Linescan  aberfeldy west 200 p1_201901260955_mga94_55.jpg   \n",
       "2  Linescan  aberfeldy west 200 p1_201901260955_mga94_55.jpg   \n",
       "3  Linescan  aberfeldy west 214 p1_201901261750_mga94_55.jpg   \n",
       "4  Linescan  aberfeldy west 214 p1_201901261750_mga94_55.jpg   \n",
       "\n",
       "               Type                 dtString  \\\n",
       "0  Initial ignition  2019/01/26 09:55:00.000   \n",
       "1  Initial ignition  2019/01/26 09:55:00.000   \n",
       "2  Initial ignition  2019/01/26 09:55:00.000   \n",
       "3              Spot  2019/01/26 17:50:00.000   \n",
       "4          Main run  2019/01/26 17:50:00.000   \n",
       "\n",
       "                                            Comments               dtUTC  \\\n",
       "0        originally Latrobe 87 - Jericho - Jim Track 2019-01-25 22:55:00   \n",
       "1  originally Latrobe 86 - Jericho - Thomson - Jo... 2019-01-25 22:55:00   \n",
       "2   originally Latrobe 85 - Jericho - Cream Can Hill 2019-01-25 22:55:00   \n",
       "3        originally Latrobe 87 - Jericho - Jim Track 2019-01-26 06:50:00   \n",
       "4        originally Latrobe 87 - Jericho - Jim Track 2019-01-26 06:50:00   \n",
       "\n",
       "              dtLocal ID      event  \\\n",
       "0 2019-01-26 09:55:00  0  Latrobe86   \n",
       "1 2019-01-26 09:55:00  1  Latrobe86   \n",
       "2 2019-01-26 09:55:00  2  Latrobe86   \n",
       "3 2019-01-26 17:50:00  3  Latrobe86   \n",
       "4 2019-01-26 17:50:00  4  Latrobe86   \n",
       "\n",
       "                                            geometry  \\\n",
       "0  POLYGON ((431455.605 5829806.837, 431460.570 5...   \n",
       "1  POLYGON ((433874.449 5827986.798, 433882.377 5...   \n",
       "2  POLYGON ((430459.914 5831285.492, 430457.641 5...   \n",
       "3  POLYGON ((431937.376 5829943.371, 431941.068 5...   \n",
       "4  POLYGON ((431541.651 5829804.025, 431547.139 5...   \n",
       "\n",
       "                               SourceNameClean  \n",
       "0  ABERFELDY_WEST_200_P1_201901260955_MGA94_55  \n",
       "1  ABERFELDY_WEST_200_P1_201901260955_MGA94_55  \n",
       "2  ABERFELDY_WEST_200_P1_201901260955_MGA94_55  \n",
       "3  ABERFELDY_WEST_214_P1_201901261750_MGA94_55  \n",
       "4  ABERFELDY_WEST_214_P1_201901261750_MGA94_55  "
      ]
     },
     "execution_count": 22,
     "metadata": {},
     "output_type": "execute_result"
    }
   ],
   "source": [
    "new_gdf['SourceNameClean'] = new_gdf.apply(lambda row: clean_name(row.SourceName), axis=1)\n",
    "new_gdf.dtUTC = new_gdf.apply(lambda row: datetime.strptime(row.dtUTC, '%Y-%m-%d %H:%M:%S'), axis=1)\n",
    "new_gdf.dtLocal = new_gdf.apply(lambda row: datetime.strptime(row.dtLocal, '%Y-%m-%d %H:%M:%S'), axis=1)\n",
    "new_gdf.head()"
   ]
  },
  {
   "cell_type": "markdown",
   "metadata": {},
   "source": [
    "### une rapide analyse montre que plein de polygone ne sont pas dans les donnees train"
   ]
  },
  {
   "cell_type": "code",
   "execution_count": 23,
   "metadata": {
    "scrolled": false
   },
   "outputs": [
    {
     "data": {
      "text/plain": [
       "0.6630434782608695"
      ]
     },
     "execution_count": 23,
     "metadata": {},
     "output_type": "execute_result"
    }
   ],
   "source": [
    "xlabels = [k[:-25] for k in train.label.unique()]\n",
    "ylabels = [k[:-25] for k in new_gdf.SourceNameClean.unique()]\n",
    "aga = pd.DataFrame([(y,y in xlabels) for y in ylabels], columns = ['value','in_label_file'])\n",
    "aga.in_label_file.mean()"
   ]
  },
  {
   "cell_type": "code",
   "execution_count": 24,
   "metadata": {
    "scrolled": true
   },
   "outputs": [
    {
     "data": {
      "text/plain": [
       "0.40217391304347827"
      ]
     },
     "execution_count": 24,
     "metadata": {},
     "output_type": "execute_result"
    }
   ],
   "source": [
    "agaga = pd.DataFrame([(k, k in train.label.unique()) for k in new_gdf.SourceNameClean.unique()],\n",
    "                     columns = ['value','in_label_file'])\n",
    "agaga.in_label_file.mean()"
   ]
  },
  {
   "cell_type": "markdown",
   "metadata": {},
   "source": [
    "## create files"
   ]
  },
  {
   "cell_type": "code",
   "execution_count": 89,
   "metadata": {},
   "outputs": [],
   "source": [
    "new_gdf.crs = 'epsg:28355'"
   ]
  },
  {
   "cell_type": "code",
   "execution_count": 102,
   "metadata": {},
   "outputs": [
    {
     "name": "stderr",
     "output_type": "stream",
     "text": [
      " 19%|█▊        | 24/129 [00:20<01:50,  1.05s/it]"
     ]
    },
    {
     "name": "stdout",
     "output_type": "stream",
     "text": [
      "Rasterizing to match xarray.DataArray dimensions (777, 1171)\n"
     ]
    },
    {
     "name": "stderr",
     "output_type": "stream",
     "text": [
      " 21%|██        | 27/129 [00:21<01:09,  1.46it/s]"
     ]
    },
    {
     "name": "stdout",
     "output_type": "stream",
     "text": [
      "Rasterizing to match xarray.DataArray dimensions (1297, 3333)\n"
     ]
    },
    {
     "name": "stderr",
     "output_type": "stream",
     "text": [
      "\r",
      " 22%|██▏       | 28/129 [00:22<01:18,  1.29it/s]"
     ]
    },
    {
     "name": "stdout",
     "output_type": "stream",
     "text": [
      "Rasterizing to match xarray.DataArray dimensions (1873, 2125)\n"
     ]
    },
    {
     "name": "stderr",
     "output_type": "stream",
     "text": [
      " 23%|██▎       | 30/129 [00:23<01:05,  1.52it/s]"
     ]
    },
    {
     "name": "stdout",
     "output_type": "stream",
     "text": [
      "Rasterizing to match xarray.DataArray dimensions (2052, 2196)\n"
     ]
    },
    {
     "name": "stderr",
     "output_type": "stream",
     "text": [
      " 25%|██▍       | 32/129 [00:25<01:13,  1.33it/s]"
     ]
    },
    {
     "name": "stdout",
     "output_type": "stream",
     "text": [
      "Rasterizing to match xarray.DataArray dimensions (2022, 2435)\n"
     ]
    },
    {
     "name": "stderr",
     "output_type": "stream",
     "text": [
      " 26%|██▋       | 34/129 [00:27<01:26,  1.09it/s]"
     ]
    },
    {
     "name": "stdout",
     "output_type": "stream",
     "text": [
      "Rasterizing to match xarray.DataArray dimensions (2295, 1799)\n"
     ]
    },
    {
     "name": "stderr",
     "output_type": "stream",
     "text": [
      "\r",
      " 27%|██▋       | 35/129 [00:28<01:34,  1.01s/it]"
     ]
    },
    {
     "name": "stdout",
     "output_type": "stream",
     "text": [
      "Rasterizing to match xarray.DataArray dimensions (1908, 2142)\n"
     ]
    },
    {
     "name": "stderr",
     "output_type": "stream",
     "text": [
      "\r",
      " 28%|██▊       | 36/129 [00:29<01:22,  1.12it/s]"
     ]
    },
    {
     "name": "stdout",
     "output_type": "stream",
     "text": [
      "Rasterizing to match xarray.DataArray dimensions (1963, 2224)\n"
     ]
    },
    {
     "name": "stderr",
     "output_type": "stream",
     "text": [
      " 30%|███       | 39/129 [00:32<01:18,  1.15it/s]"
     ]
    },
    {
     "name": "stdout",
     "output_type": "stream",
     "text": [
      "Rasterizing to match xarray.DataArray dimensions (1753, 1934)\n"
     ]
    },
    {
     "name": "stderr",
     "output_type": "stream",
     "text": [
      "\r",
      " 31%|███       | 40/129 [00:33<01:15,  1.17it/s]"
     ]
    },
    {
     "name": "stdout",
     "output_type": "stream",
     "text": [
      "Rasterizing to match xarray.DataArray dimensions (3314, 1683)\n"
     ]
    },
    {
     "name": "stderr",
     "output_type": "stream",
     "text": [
      " 33%|███▎      | 42/129 [00:34<01:00,  1.44it/s]"
     ]
    },
    {
     "name": "stdout",
     "output_type": "stream",
     "text": [
      "Rasterizing to match xarray.DataArray dimensions (2440, 2132)\n"
     ]
    },
    {
     "name": "stderr",
     "output_type": "stream",
     "text": [
      " 40%|███▉      | 51/129 [00:39<00:52,  1.48it/s]"
     ]
    },
    {
     "name": "stdout",
     "output_type": "stream",
     "text": [
      "Rasterizing to match xarray.DataArray dimensions (2847, 2720)\n"
     ]
    },
    {
     "name": "stderr",
     "output_type": "stream",
     "text": [
      " 51%|█████     | 66/129 [00:57<01:17,  1.22s/it]"
     ]
    },
    {
     "name": "stdout",
     "output_type": "stream",
     "text": [
      "Rasterizing to match xarray.DataArray dimensions (3509, 3770)\n"
     ]
    },
    {
     "name": "stderr",
     "output_type": "stream",
     "text": [
      " 54%|█████▍    | 70/129 [01:00<00:44,  1.31it/s]"
     ]
    },
    {
     "name": "stdout",
     "output_type": "stream",
     "text": [
      "Rasterizing to match xarray.DataArray dimensions (3981, 2973)\n"
     ]
    },
    {
     "name": "stderr",
     "output_type": "stream",
     "text": [
      " 57%|█████▋    | 73/129 [01:02<00:40,  1.37it/s]"
     ]
    },
    {
     "name": "stdout",
     "output_type": "stream",
     "text": [
      "Rasterizing to match xarray.DataArray dimensions (3736, 3548)\n"
     ]
    },
    {
     "name": "stderr",
     "output_type": "stream",
     "text": [
      "\r",
      " 57%|█████▋    | 74/129 [01:03<00:38,  1.41it/s]"
     ]
    },
    {
     "name": "stdout",
     "output_type": "stream",
     "text": [
      "Rasterizing to match xarray.DataArray dimensions (4124, 3915)\n"
     ]
    },
    {
     "name": "stderr",
     "output_type": "stream",
     "text": [
      "\r",
      " 58%|█████▊    | 75/129 [01:03<00:35,  1.53it/s]"
     ]
    },
    {
     "name": "stdout",
     "output_type": "stream",
     "text": [
      "Rasterizing to match xarray.DataArray dimensions (3531, 2005)\n"
     ]
    },
    {
     "name": "stderr",
     "output_type": "stream",
     "text": [
      " 60%|█████▉    | 77/129 [01:05<00:34,  1.49it/s]"
     ]
    },
    {
     "name": "stdout",
     "output_type": "stream",
     "text": [
      "Rasterizing to match xarray.DataArray dimensions (3584, 2623)\n"
     ]
    },
    {
     "name": "stderr",
     "output_type": "stream",
     "text": [
      " 62%|██████▏   | 80/129 [01:06<00:30,  1.58it/s]"
     ]
    },
    {
     "name": "stdout",
     "output_type": "stream",
     "text": [
      "Rasterizing to match xarray.DataArray dimensions (2855, 2389)\n"
     ]
    },
    {
     "name": "stderr",
     "output_type": "stream",
     "text": [
      " 64%|██████▍   | 83/129 [01:09<00:32,  1.43it/s]"
     ]
    },
    {
     "name": "stdout",
     "output_type": "stream",
     "text": [
      "Rasterizing to match xarray.DataArray dimensions (3075, 2637)\n"
     ]
    },
    {
     "name": "stderr",
     "output_type": "stream",
     "text": [
      " 68%|██████▊   | 88/129 [01:12<00:25,  1.61it/s]"
     ]
    },
    {
     "name": "stdout",
     "output_type": "stream",
     "text": [
      "Rasterizing to match xarray.DataArray dimensions (3313, 2770)\n"
     ]
    },
    {
     "name": "stderr",
     "output_type": "stream",
     "text": [
      "\r",
      " 69%|██████▉   | 89/129 [01:13<00:28,  1.40it/s]"
     ]
    },
    {
     "name": "stdout",
     "output_type": "stream",
     "text": [
      "Rasterizing to match xarray.DataArray dimensions (3924, 2792)\n"
     ]
    },
    {
     "name": "stderr",
     "output_type": "stream",
     "text": [
      " 71%|███████▏  | 92/129 [01:16<00:34,  1.07it/s]"
     ]
    },
    {
     "name": "stdout",
     "output_type": "stream",
     "text": [
      "Rasterizing to match xarray.DataArray dimensions (2864, 2625)\n"
     ]
    },
    {
     "name": "stderr",
     "output_type": "stream",
     "text": [
      "\r",
      " 72%|███████▏  | 93/129 [01:17<00:30,  1.18it/s]"
     ]
    },
    {
     "name": "stdout",
     "output_type": "stream",
     "text": [
      "Rasterizing to match xarray.DataArray dimensions (3164, 2068)\n"
     ]
    },
    {
     "name": "stderr",
     "output_type": "stream",
     "text": [
      " 74%|███████▎  | 95/129 [01:18<00:26,  1.28it/s]"
     ]
    },
    {
     "name": "stdout",
     "output_type": "stream",
     "text": [
      "Rasterizing to match xarray.DataArray dimensions (4447, 3094)\n"
     ]
    },
    {
     "name": "stderr",
     "output_type": "stream",
     "text": [
      "\r",
      " 74%|███████▍  | 96/129 [01:19<00:23,  1.38it/s]"
     ]
    },
    {
     "name": "stdout",
     "output_type": "stream",
     "text": [
      "Rasterizing to match xarray.DataArray dimensions (2844, 2291)\n"
     ]
    },
    {
     "name": "stderr",
     "output_type": "stream",
     "text": [
      "\r",
      " 75%|███████▌  | 97/129 [01:19<00:24,  1.31it/s]"
     ]
    },
    {
     "name": "stdout",
     "output_type": "stream",
     "text": [
      "Rasterizing to match xarray.DataArray dimensions (3512, 2711)\n"
     ]
    },
    {
     "name": "stderr",
     "output_type": "stream",
     "text": [
      "\r",
      " 76%|███████▌  | 98/129 [01:20<00:25,  1.20it/s]"
     ]
    },
    {
     "name": "stdout",
     "output_type": "stream",
     "text": [
      "Rasterizing to match xarray.DataArray dimensions (3416, 1878)\n"
     ]
    },
    {
     "name": "stderr",
     "output_type": "stream",
     "text": [
      " 82%|████████▏ | 106/129 [01:26<00:18,  1.23it/s]"
     ]
    },
    {
     "name": "stdout",
     "output_type": "stream",
     "text": [
      "Rasterizing to match xarray.DataArray dimensions (3210, 2264)\n"
     ]
    },
    {
     "name": "stderr",
     "output_type": "stream",
     "text": [
      " 84%|████████▍ | 109/129 [01:31<00:26,  1.31s/it]"
     ]
    },
    {
     "name": "stdout",
     "output_type": "stream",
     "text": [
      "Rasterizing to match xarray.DataArray dimensions (3049, 2434)\n"
     ]
    },
    {
     "name": "stderr",
     "output_type": "stream",
     "text": [
      "\r",
      " 85%|████████▌ | 110/129 [01:32<00:21,  1.12s/it]"
     ]
    },
    {
     "name": "stdout",
     "output_type": "stream",
     "text": [
      "Rasterizing to match xarray.DataArray dimensions (3052, 2171)\n"
     ]
    },
    {
     "name": "stderr",
     "output_type": "stream",
     "text": [
      " 88%|████████▊ | 113/129 [01:35<00:14,  1.09it/s]"
     ]
    },
    {
     "name": "stdout",
     "output_type": "stream",
     "text": [
      "Rasterizing to match xarray.DataArray dimensions (3127, 2378)\n"
     ]
    },
    {
     "name": "stderr",
     "output_type": "stream",
     "text": [
      "\r",
      " 88%|████████▊ | 114/129 [01:35<00:12,  1.19it/s]"
     ]
    },
    {
     "name": "stdout",
     "output_type": "stream",
     "text": [
      "Rasterizing to match xarray.DataArray dimensions (3266, 2371)\n"
     ]
    },
    {
     "name": "stderr",
     "output_type": "stream",
     "text": [
      "\r",
      " 89%|████████▉ | 115/129 [01:36<00:11,  1.27it/s]"
     ]
    },
    {
     "name": "stdout",
     "output_type": "stream",
     "text": [
      "Rasterizing to match xarray.DataArray dimensions (3132, 2352)\n"
     ]
    },
    {
     "name": "stderr",
     "output_type": "stream",
     "text": [
      " 92%|█████████▏| 119/129 [01:39<00:07,  1.29it/s]"
     ]
    },
    {
     "name": "stdout",
     "output_type": "stream",
     "text": [
      "Rasterizing to match xarray.DataArray dimensions (3002, 2469)\n"
     ]
    },
    {
     "name": "stderr",
     "output_type": "stream",
     "text": [
      " 95%|█████████▍| 122/129 [01:43<00:06,  1.03it/s]"
     ]
    },
    {
     "name": "stdout",
     "output_type": "stream",
     "text": [
      "Rasterizing to match xarray.DataArray dimensions (3483, 2252)\n"
     ]
    },
    {
     "name": "stderr",
     "output_type": "stream",
     "text": [
      " 97%|█████████▋| 125/129 [01:45<00:03,  1.08it/s]"
     ]
    },
    {
     "name": "stdout",
     "output_type": "stream",
     "text": [
      "Rasterizing to match xarray.DataArray dimensions (3381, 1795)\n"
     ]
    },
    {
     "name": "stderr",
     "output_type": "stream",
     "text": [
      "100%|██████████| 129/129 [01:51<00:00,  1.16it/s]\n"
     ]
    }
   ],
   "source": [
    "the_big_list = []\n",
    "for sample in tqdm.tqdm(range(len(train))):\n",
    "    fname = linescan_datasets[sample].metadata_doc['label']\n",
    "    ob = new_gdf.loc[new_gdf.SourceNameClean == fname]\n",
    "    \n",
    "    # print(f\"There are {len(ob)} polygons for linescan {fname}\")\n",
    "    src = dc.load(product='linescan', id=linescan_datasets[sample].id, output_crs='epsg:28355', resolution=(-10,10))\n",
    "    if len(ob)>0:\n",
    "        tgt = xr_rasterize(gdf=ob, da=src)\n",
    "    else:\n",
    "        tgt = src.linescan[0]*0\n",
    "    the_big_list.append({'input': src.linescan,  'target': tgt})"
   ]
  },
  {
   "cell_type": "code",
   "execution_count": 105,
   "metadata": {
    "scrolled": true
   },
   "outputs": [],
   "source": [
    "dimensions = np.zeros((len(train),2),dtype=int)\n",
    "for (d,dico) in enumerate(the_big_list):\n",
    "    dimensions[d] = dico['target'].shape"
   ]
  },
  {
   "cell_type": "code",
   "execution_count": 106,
   "metadata": {},
   "outputs": [
    {
     "data": {
      "text/plain": [
       "array([[1409, 1994],\n",
       "       [1453, 1990],\n",
       "       [1382, 1687],\n",
       "       [1216, 1173],\n",
       "       [1003, 1049],\n",
       "       [1201, 1045],\n",
       "       [2036, 1638],\n",
       "       [ 511, 1430],\n",
       "       [1478, 1354],\n",
       "       [1124,  783],\n",
       "       [1230, 1842],\n",
       "       [1531, 1985],\n",
       "       [1474, 1838],\n",
       "       [2172, 2444],\n",
       "       [1852, 2605],\n",
       "       [2833, 4446],\n",
       "       [2907, 5188],\n",
       "       [4059, 4101],\n",
       "       [4752, 4976],\n",
       "       [4425, 4810],\n",
       "       [4189, 4266],\n",
       "       [4308, 4699],\n",
       "       [3116, 5141],\n",
       "       [ 777, 1171],\n",
       "       [ 705, 1217],\n",
       "       [1599, 1617],\n",
       "       [1297, 3333],\n",
       "       [1873, 2125],\n",
       "       [ 825, 2336],\n",
       "       [2052, 2196],\n",
       "       [1280, 2513],\n",
       "       [2022, 2435],\n",
       "       [2507, 2870],\n",
       "       [2295, 1799],\n",
       "       [1908, 2142],\n",
       "       [1963, 2224],\n",
       "       [1905, 2029],\n",
       "       [2835, 3242],\n",
       "       [1753, 1934],\n",
       "       [3314, 1683],\n",
       "       [1898, 2181],\n",
       "       [2440, 2132],\n",
       "       [2315, 2095],\n",
       "       [2283, 2013],\n",
       "       [2116, 2099],\n",
       "       [1959, 2135],\n",
       "       [2129, 2298],\n",
       "       [2477, 2402],\n",
       "       [2648, 2508],\n",
       "       [2830, 3104],\n",
       "       [2847, 2720],\n",
       "       [2978, 3243],\n",
       "       [2792, 2645],\n",
       "       [2818, 2951],\n",
       "       [2461, 2380],\n",
       "       [2580, 2399],\n",
       "       [3860, 3393],\n",
       "       [3872, 3394],\n",
       "       [2396, 2352],\n",
       "       [2561, 2325],\n",
       "       [3347, 3684],\n",
       "       [3366, 3783],\n",
       "       [4800, 3381],\n",
       "       [7026, 6180],\n",
       "       [6698, 6258],\n",
       "       [3509, 3770],\n",
       "       [4078, 4105],\n",
       "       [4913, 4226],\n",
       "       [4303, 3807],\n",
       "       [3981, 2973],\n",
       "       [4352, 4228],\n",
       "       [3830, 3073],\n",
       "       [3736, 3548],\n",
       "       [4124, 3915],\n",
       "       [3531, 2005],\n",
       "       [2526, 2144],\n",
       "       [3584, 2623],\n",
       "       [4729, 3534],\n",
       "       [3244, 3667],\n",
       "       [2855, 2389],\n",
       "       [5321, 3249],\n",
       "       [4779, 3548],\n",
       "       [3075, 2637],\n",
       "       [4614, 3084],\n",
       "       [3502, 2788],\n",
       "       [3693, 4477],\n",
       "       [5084, 3663],\n",
       "       [3313, 2770],\n",
       "       [3924, 2792],\n",
       "       [5221, 3261],\n",
       "       [5223, 3729],\n",
       "       [2864, 2625],\n",
       "       [3164, 2068],\n",
       "       [2890, 3533],\n",
       "       [4447, 3094],\n",
       "       [2844, 2291],\n",
       "       [3512, 2711],\n",
       "       [3416, 1878],\n",
       "       [5700, 3340],\n",
       "       [3504, 2541],\n",
       "       [6009, 3245],\n",
       "       [5799, 3220],\n",
       "       [5791, 3371],\n",
       "       [5945, 3321],\n",
       "       [3661, 3966],\n",
       "       [3210, 2264],\n",
       "       [5821, 3195],\n",
       "       [5300, 3263],\n",
       "       [3049, 2434],\n",
       "       [3052, 2171],\n",
       "       [5660, 3086],\n",
       "       [3537, 3697],\n",
       "       [3127, 2378],\n",
       "       [3266, 2371],\n",
       "       [3132, 2352],\n",
       "       [3427, 3662],\n",
       "       [5384, 3074],\n",
       "       [3672, 3627],\n",
       "       [3002, 2469],\n",
       "       [5275, 3305],\n",
       "       [5867, 3133],\n",
       "       [3483, 2252],\n",
       "       [2885, 2417],\n",
       "       [5255, 3327],\n",
       "       [3381, 1795],\n",
       "       [1902, 1956],\n",
       "       [3739, 3747],\n",
       "       [2706, 2357],\n",
       "       [5355, 3357]])"
      ]
     },
     "execution_count": 106,
     "metadata": {},
     "output_type": "execute_result"
    }
   ],
   "source": [
    "dimensions"
   ]
  },
  {
   "cell_type": "code",
   "execution_count": null,
   "metadata": {},
   "outputs": [],
   "source": []
  }
 ],
 "metadata": {
  "kernelspec": {
   "display_name": "Python 3",
   "language": "python",
   "name": "python3"
  },
  "language_info": {
   "codemirror_mode": {
    "name": "ipython",
    "version": 3
   },
   "file_extension": ".py",
   "mimetype": "text/x-python",
   "name": "python",
   "nbconvert_exporter": "python",
   "pygments_lexer": "ipython3",
   "version": "3.6.9"
  }
 },
 "nbformat": 4,
 "nbformat_minor": 4
}
